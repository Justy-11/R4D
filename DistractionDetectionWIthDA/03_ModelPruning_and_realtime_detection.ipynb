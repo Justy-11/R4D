{
 "cells": [
  {
   "cell_type": "code",
   "execution_count": 1,
   "id": "10683d86",
   "metadata": {},
   "outputs": [],
   "source": [
    "import tensorflow as tf\n",
    "import cv2\n",
    "import os\n",
    "import matplotlib.pyplot as plt\n",
    "import numpy as np\n",
    "import pickle"
   ]
  },
  {
   "cell_type": "code",
   "execution_count": 2,
   "id": "f29bbdde",
   "metadata": {},
   "outputs": [],
   "source": [
    "from tensorflow.keras.models import load_model\n",
    "\n",
    "saved_dir = 'D:/JATHURSH/Jupyter_notebook_projects/DistractionDetectFinal/saved_data/models/'\n",
    "\n",
    "# load model\n",
    "model = load_model(saved_dir + 'dis_det_model.h5')"
   ]
  },
  {
   "cell_type": "code",
   "execution_count": 3,
   "id": "a8fad293",
   "metadata": {},
   "outputs": [
    {
     "name": "stdout",
     "output_type": "stream",
     "text": [
      "INFO:tensorflow:Assets written to: C:\\Users\\DELL\\AppData\\Local\\Temp\\tmpuw45fntj\\assets\n"
     ]
    },
    {
     "name": "stderr",
     "output_type": "stream",
     "text": [
      "INFO:tensorflow:Assets written to: C:\\Users\\DELL\\AppData\\Local\\Temp\\tmpuw45fntj\\assets\n"
     ]
    }
   ],
   "source": [
    "from tensorflow.keras.applications.mobilenet_v2 import preprocess_input\n",
    "from tensorflow import lite\n",
    "\n",
    "# Convert the Keras model to TensorFlow Lite with float16 precision\n",
    "converter = lite.TFLiteConverter.from_keras_model(model)\n",
    "converter.optimizations = [lite.Optimize.DEFAULT]\n",
    "converter.target_spec.supported_ops = [tf.lite.OpsSet.TFLITE_BUILTINS, tf.lite.OpsSet.SELECT_TF_OPS]\n",
    "converter.target_spec.supported_types = [tf.float16]\n",
    "converter._experimental_lower_tensor_list_ops = False\n",
    "tflite_fp16_model = converter.convert()\n",
    "\n",
    "# Load the converted TensorFlow Lite model with float16 precision\n",
    "interpreter = tf.lite.Interpreter(model_content=tflite_fp16_model)\n",
    "interpreter.allocate_tensors()"
   ]
  },
  {
   "cell_type": "code",
   "execution_count": 6,
   "id": "c2f6b8d4",
   "metadata": {},
   "outputs": [
    {
     "name": "stdout",
     "output_type": "stream",
     "text": [
      "pygame 2.5.2 (SDL 2.28.3, Python 3.11.4)\n",
      "Hello from the pygame community. https://www.pygame.org/contribute.html\n"
     ]
    }
   ],
   "source": [
    "from pygame import mixer\n",
    "\n",
    "# Initialize the mixer module\n",
    "mixer.init()\n",
    "\n",
    "alarm_sound_path = 'D:/JATHURSH/Jupyter_notebook_projects/DistractionDetectFinal/saved_data/test_assets/alarm.mp3'\n",
    "\n",
    "# Load the alarm sound\n",
    "mixer.music.load(alarm_sound_path)\n",
    "\n",
    "# # Play the alarm sound\n",
    "# mixer.music.play()\n",
    "\n",
    "# # Wait for a few seconds (you can adjust the duration)\n",
    "# time.sleep(2)\n",
    "\n",
    "# # Stop the alarm sound\n",
    "# mixer.music.stop()"
   ]
  },
  {
   "cell_type": "code",
   "execution_count": 13,
   "id": "04a61299",
   "metadata": {},
   "outputs": [],
   "source": [
    "import time\n",
    "\n",
    "# Define class labels\n",
    "class_labels = {\n",
    "    0: 'Normal Driving',\n",
    "    1: 'Texting',\n",
    "    2: 'Talking on the Phone',\n",
    "    3: 'Operating the Radio',\n",
    "    4: 'Drinking',\n",
    "    5: 'Reaching Behind',\n",
    "    6: 'Hair and Makeup',\n",
    "    7: 'Talking to Passenger'\n",
    "}\n",
    "\n",
    "# Open a video stream\n",
    "cap = cv2.VideoCapture('D:/JATHURSH/Jupyter_notebook_projects/DistractionDetectionWithDA/saved_data/test_videos/test_vdo_distraction_detect.mp4')\n",
    "\n",
    "# Set the desired frame rate\n",
    "your_frame_rate = 30  # Adjust this value based on your video's frame rate\n",
    "cap.set(cv2.CAP_PROP_FPS, your_frame_rate)\n",
    "\n",
    "# Set the font properties\n",
    "font = cv2.FONT_HERSHEY_SIMPLEX\n",
    "font_scale = 1\n",
    "font_thickness = 2\n",
    "\n",
    "warning_duration_threshold = 1.5\n",
    "\n",
    "# Initialize variables to track distractions and their durations\n",
    "current_distraction = None\n",
    "current_distraction_start_time = None\n",
    "\n",
    "while cap.isOpened():\n",
    "    ret, frame = cap.read()\n",
    "\n",
    "    if not ret:\n",
    "        break\n",
    "\n",
    "    # Resize the frame to match the model's expected sizing\n",
    "    resized_frame = cv2.resize(frame, (224, 224))\n",
    "\n",
    "    # Convert the BGR image to RGB\n",
    "    frame_rgb = cv2.cvtColor(resized_frame, cv2.COLOR_BGR2RGB)\n",
    "\n",
    "    # Expand dimensions to match model input shape\n",
    "    frame_expanded = np.expand_dims(frame_rgb, axis=0)\n",
    "\n",
    "    # Preprocess the frame for the model input\n",
    "    frame_preprocessed = preprocess_input(frame_expanded)\n",
    "\n",
    "    # Set the input tensor for the model\n",
    "    interpreter.set_tensor(interpreter.get_input_details()[0]['index'], frame_preprocessed)\n",
    "\n",
    "    # Run inference\n",
    "    interpreter.invoke()\n",
    "\n",
    "    # Get the output tensor\n",
    "    predictions = interpreter.get_tensor(interpreter.get_output_details()[0]['index'])\n",
    "\n",
    "    # Get the predicted class index and label\n",
    "    predicted_class_index = np.argmax(predictions)\n",
    "    predicted_class_label = class_labels[predicted_class_index]\n",
    "\n",
    "    # Display the frame with the predicted class label\n",
    "    cv2.putText(frame, f'{predicted_class_index} ({predicted_class_label})', (10, 30),\n",
    "                font, font_scale, (0, 255, 0), font_thickness)\n",
    "\n",
    "    # Check for specific distractions and set warnings\n",
    "    if predicted_class_label != 'Normal Driving':\n",
    "        # Distraction is not 'Normal Driving'\n",
    "        if predicted_class_label == current_distraction:\n",
    "            # Same distraction as the previous frame\n",
    "            elapsed_time = time.time() - current_distraction_start_time\n",
    "\n",
    "            if elapsed_time >= warning_duration_threshold:\n",
    "                # Warning condition satisfied\n",
    "                cv2.putText(frame, f'WARNING: {current_distraction} for {elapsed_time:.1f} seconds!',\n",
    "                            (10, 60), font, font_scale, (0, 0, 255), font_thickness)\n",
    "                \n",
    "                # trigger alarm\n",
    "                # Check if the alarm is not already playing\n",
    "                if not mixer.music.get_busy():\n",
    "                    # Play the alarm sound\n",
    "                    mixer.music.play()\n",
    "\n",
    "        else:\n",
    "            # Distraction has changed, reset the tracking variables\n",
    "            current_distraction = predicted_class_label\n",
    "            current_distraction_start_time = time.time()\n",
    "            \n",
    "            # Stop the alarm sound\n",
    "            mixer.music.stop()\n",
    "    \n",
    "    cv2.imshow('Distraction Detection', frame)\n",
    "\n",
    "    if cv2.waitKey(1) & 0xFF == ord('q'):\n",
    "        break\n",
    "\n",
    "cap.release()\n",
    "cv2.destroyAllWindows()"
   ]
  },
  {
   "cell_type": "code",
   "execution_count": null,
   "id": "c095f8ce",
   "metadata": {},
   "outputs": [],
   "source": []
  },
  {
   "cell_type": "code",
   "execution_count": null,
   "id": "88279235",
   "metadata": {},
   "outputs": [],
   "source": []
  }
 ],
 "metadata": {
  "kernelspec": {
   "display_name": "Python 3 (ipykernel)",
   "language": "python",
   "name": "python3"
  },
  "language_info": {
   "codemirror_mode": {
    "name": "ipython",
    "version": 3
   },
   "file_extension": ".py",
   "mimetype": "text/x-python",
   "name": "python",
   "nbconvert_exporter": "python",
   "pygments_lexer": "ipython3",
   "version": "3.11.4"
  }
 },
 "nbformat": 4,
 "nbformat_minor": 5
}
