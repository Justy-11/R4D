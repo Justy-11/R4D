{
 "cells": [
  {
   "cell_type": "code",
   "execution_count": 1,
   "id": "0699d2c2",
   "metadata": {},
   "outputs": [],
   "source": [
    "import tensorflow as tf\n",
    "import numpy as np\n",
    "import cv2\n",
    "import matplotlib.pyplot as plt\n",
    "import os\n",
    "import pickle\n",
    "\n",
    "# Load the numpy arrays\n",
    "X_train = np.load('D:/JATHURSH/Jupyter_notebook_projects/Saved_stuff_from_drowsiness_detection_project/full_data_train_test_validation_split/X_train.npy')\n",
    "\n",
    "X_test = np.load('D:/JATHURSH/Jupyter_notebook_projects/Saved_stuff_from_drowsiness_detection_project/full_data_train_test_validation_split/X_test.npy')\n",
    "\n",
    "X_val = np.load('D:/JATHURSH/Jupyter_notebook_projects/Saved_stuff_from_drowsiness_detection_project/full_data_train_test_validation_split/X_val.npy')\n",
    "\n",
    "y_train = np.load('D:/JATHURSH/Jupyter_notebook_projects/Saved_stuff_from_drowsiness_detection_project/full_data_train_test_validation_split/y_train.npy')\n",
    "\n",
    "y_test = np.load('D:/JATHURSH/Jupyter_notebook_projects/Saved_stuff_from_drowsiness_detection_project/full_data_train_test_validation_split/y_test.npy')\n",
    "\n",
    "y_val = np.load('D:/JATHURSH/Jupyter_notebook_projects/Saved_stuff_from_drowsiness_detection_project/full_data_train_test_validation_split/y_val.npy')"
   ]
  },
  {
   "cell_type": "code",
   "execution_count": 2,
   "id": "5f2f2f69",
   "metadata": {},
   "outputs": [],
   "source": [
    "# preprocessing\n",
    "# preprocess using mobilNetV2 - preprocess_input method\n",
    "X_train_preprocessed = tf.keras.applications.mobilenet_v2.preprocess_input(X_train)"
   ]
  },
  {
   "cell_type": "code",
   "execution_count": 4,
   "id": "b09fd614",
   "metadata": {},
   "outputs": [],
   "source": [
    "X_val_preprocessed = tf.keras.applications.mobilenet_v2.preprocess_input(X_val)\n",
    "X_test_preprocessed = tf.keras.applications.mobilenet_v2.preprocess_input(X_test)    "
   ]
  },
  {
   "cell_type": "code",
   "execution_count": 5,
   "id": "7571464f",
   "metadata": {},
   "outputs": [],
   "source": [
    "# free up mem\n",
    "del X_train\n",
    "del X_test\n",
    "del X_val"
   ]
  },
  {
   "cell_type": "code",
   "execution_count": 6,
   "id": "b032fc5f",
   "metadata": {},
   "outputs": [],
   "source": [
    "# pretrained model - MobileNetV2\n",
    "# all should be numpy arrays or tensors to give to MobileNetV2\n",
    "\"\"\"\n",
    "tf.keras.applications.mobilenet_v2.MobileNetV2(\n",
    "    input_shape=None,                 # Shape of input data (MobileNets support any input size greater than 32 x 32, with larger image sizes offering better performance.) \n",
    "    alpha=1.0,                        # Width multiplier for controlling network width (default is 1.0)\n",
    "    include_top=True,                 # Include fully connected top layers (default is True)\n",
    "    weights='imagenet',               # Weight initialization ('imagenet' for pre-trained weights, None for random initialization)\n",
    "    input_tensor=None,                # Optional input tensor (default is None)\n",
    "    pooling=None,                     # Pooling type for the last layer ('avg', 'max', or None; default is None)\n",
    "    classes=1000,                     # Number of output classes (default is 1000 for ImageNet)\n",
    "    classifier_activation='softmax',   # Activation function for output layer (default is 'softmax')\n",
    "    **kwargs                          # Additional keyword arguments\n",
    ")\n",
    "\"\"\"\n",
    "# we dont have to set anything and keep its default values\n",
    "\n",
    "MobileNetV2_model = tf.keras.applications.mobilenet_v2.MobileNetV2()\n",
    "\n",
    "# Make all layers in the model non-trainable - freeze\n",
    "for layer in MobileNetV2_model.layers:\n",
    "    layer.trainable = False"
   ]
  },
  {
   "cell_type": "code",
   "execution_count": 7,
   "id": "bcd92db5",
   "metadata": {},
   "outputs": [],
   "source": [
    "# Get the base model's input and output\n",
    "base_input = MobileNetV2_model.layers[0].input\n",
    "base_output = MobileNetV2_model.layers[-3].output\n",
    "\n",
    "# custom dense layers\n",
    "x = tf.keras.layers.GlobalAveragePooling2D()(base_output)\n",
    "x = tf.keras.layers.Dense(256, activation='relu')(x)  # Add a dense layer with 256 units and ReLU activation\n",
    "x = tf.keras.layers.Dropout(0.5)(x)  # Add dropout for regularization\n",
    "x = tf.keras.layers.Dense(128, activation='relu')(x)  # Add another dense layer with 128 units and ReLU activation\n",
    "\n",
    "# Final output layer\n",
    "final_output = tf.keras.layers.Dense(1, activation='sigmoid')(x)  # Output layer with sigmoid activation"
   ]
  },
  {
   "cell_type": "code",
   "execution_count": 8,
   "id": "48261f66",
   "metadata": {},
   "outputs": [],
   "source": [
    "drowsiness_detection_model_2 = tf.keras.Model(\n",
    "    inputs=base_input,\n",
    "    outputs=final_output\n",
    ")"
   ]
  },
  {
   "cell_type": "code",
   "execution_count": 10,
   "id": "cfd825b0",
   "metadata": {},
   "outputs": [
    {
     "ename": "MemoryError",
     "evalue": "Unable to allocate 33.3 GiB for an array with shape (59428, 224, 224, 3) and data type float32",
     "output_type": "error",
     "traceback": [
      "\u001b[1;31m---------------------------------------------------------------------------\u001b[0m",
      "\u001b[1;31mMemoryError\u001b[0m                               Traceback (most recent call last)",
      "Cell \u001b[1;32mIn[10], line 5\u001b[0m\n\u001b[0;32m      1\u001b[0m \u001b[38;5;66;03m# Compile and train the model using X_train_preprocessed as input\u001b[39;00m\n\u001b[0;32m      2\u001b[0m drowsiness_detection_model_2\u001b[38;5;241m.\u001b[39mcompile(optimizer\u001b[38;5;241m=\u001b[39m\u001b[38;5;124m'\u001b[39m\u001b[38;5;124madam\u001b[39m\u001b[38;5;124m'\u001b[39m, \n\u001b[0;32m      3\u001b[0m                                    loss\u001b[38;5;241m=\u001b[39m\u001b[38;5;124m'\u001b[39m\u001b[38;5;124mbinary_crossentropy\u001b[39m\u001b[38;5;124m'\u001b[39m, \n\u001b[0;32m      4\u001b[0m                                    metrics\u001b[38;5;241m=\u001b[39m[\u001b[38;5;124m'\u001b[39m\u001b[38;5;124maccuracy\u001b[39m\u001b[38;5;124m'\u001b[39m])\n\u001b[1;32m----> 5\u001b[0m drowsiness_detection_model_2\u001b[38;5;241m.\u001b[39mfit(X_train_preprocessed, \n\u001b[0;32m      6\u001b[0m                                y_train, \n\u001b[0;32m      7\u001b[0m                                epochs\u001b[38;5;241m=\u001b[39m\u001b[38;5;241m10\u001b[39m, \n\u001b[0;32m      8\u001b[0m                                batch_size\u001b[38;5;241m=\u001b[39m\u001b[38;5;241m4\u001b[39m, \n\u001b[0;32m      9\u001b[0m                                validation_data\u001b[38;5;241m=\u001b[39m(X_val_preprocessed, y_val))\n",
      "File \u001b[1;32m~\\anaconda3\\Lib\\site-packages\\keras\\src\\utils\\traceback_utils.py:70\u001b[0m, in \u001b[0;36mfilter_traceback.<locals>.error_handler\u001b[1;34m(*args, **kwargs)\u001b[0m\n\u001b[0;32m     67\u001b[0m     filtered_tb \u001b[38;5;241m=\u001b[39m _process_traceback_frames(e\u001b[38;5;241m.\u001b[39m__traceback__)\n\u001b[0;32m     68\u001b[0m     \u001b[38;5;66;03m# To get the full stack trace, call:\u001b[39;00m\n\u001b[0;32m     69\u001b[0m     \u001b[38;5;66;03m# `tf.debugging.disable_traceback_filtering()`\u001b[39;00m\n\u001b[1;32m---> 70\u001b[0m     \u001b[38;5;28;01mraise\u001b[39;00m e\u001b[38;5;241m.\u001b[39mwith_traceback(filtered_tb) \u001b[38;5;28;01mfrom\u001b[39;00m \u001b[38;5;28;01mNone\u001b[39;00m\n\u001b[0;32m     71\u001b[0m \u001b[38;5;28;01mfinally\u001b[39;00m:\n\u001b[0;32m     72\u001b[0m     \u001b[38;5;28;01mdel\u001b[39;00m filtered_tb\n",
      "File \u001b[1;32m~\\anaconda3\\Lib\\site-packages\\tensorflow\\python\\framework\\constant_op.py:86\u001b[0m, in \u001b[0;36mconvert_to_eager_tensor\u001b[1;34m(value, ctx, dtype)\u001b[0m\n\u001b[0;32m     66\u001b[0m \u001b[38;5;250m\u001b[39m\u001b[38;5;124;03m\"\"\"Converts the given `value` to an `EagerTensor`.\u001b[39;00m\n\u001b[0;32m     67\u001b[0m \n\u001b[0;32m     68\u001b[0m \u001b[38;5;124;03mNote that this function could return cached copies of created constants for\u001b[39;00m\n\u001b[1;32m   (...)\u001b[0m\n\u001b[0;32m     80\u001b[0m \u001b[38;5;124;03m  TypeError: if `dtype` is not compatible with the type of t.\u001b[39;00m\n\u001b[0;32m     81\u001b[0m \u001b[38;5;124;03m\"\"\"\u001b[39;00m\n\u001b[0;32m     82\u001b[0m \u001b[38;5;28;01mif\u001b[39;00m \u001b[38;5;28misinstance\u001b[39m(value, np\u001b[38;5;241m.\u001b[39mndarray):\n\u001b[0;32m     83\u001b[0m   \u001b[38;5;66;03m# Make a copy explicitly because the EagerTensor might share the underlying\u001b[39;00m\n\u001b[0;32m     84\u001b[0m   \u001b[38;5;66;03m# memory with the input array. Without this copy, users will be able to\u001b[39;00m\n\u001b[0;32m     85\u001b[0m   \u001b[38;5;66;03m# modify the EagerTensor after its creation by changing the input array.\u001b[39;00m\n\u001b[1;32m---> 86\u001b[0m   value \u001b[38;5;241m=\u001b[39m value\u001b[38;5;241m.\u001b[39mcopy()\n\u001b[0;32m     87\u001b[0m \u001b[38;5;28;01mif\u001b[39;00m \u001b[38;5;28misinstance\u001b[39m(value, ops\u001b[38;5;241m.\u001b[39mEagerTensor):\n\u001b[0;32m     88\u001b[0m   \u001b[38;5;28;01mif\u001b[39;00m dtype \u001b[38;5;129;01mis\u001b[39;00m \u001b[38;5;129;01mnot\u001b[39;00m \u001b[38;5;28;01mNone\u001b[39;00m \u001b[38;5;129;01mand\u001b[39;00m value\u001b[38;5;241m.\u001b[39mdtype \u001b[38;5;241m!=\u001b[39m dtype:\n",
      "\u001b[1;31mMemoryError\u001b[0m: Unable to allocate 33.3 GiB for an array with shape (59428, 224, 224, 3) and data type float32"
     ]
    }
   ],
   "source": [
    "# Compile and train the model using X_train_preprocessed as input\n",
    "drowsiness_detection_model_2.compile(optimizer='adam', \n",
    "                                   loss='binary_crossentropy', \n",
    "                                   metrics=['accuracy'])\n",
    "drowsiness_detection_model_2.fit(X_train_preprocessed, \n",
    "                               y_train, \n",
    "                               epochs=10, \n",
    "                               batch_size=4, \n",
    "                               validation_data=(X_val_preprocessed, y_val))"
   ]
  },
  {
   "cell_type": "code",
   "execution_count": null,
   "id": "0de88e16",
   "metadata": {},
   "outputs": [],
   "source": []
  }
 ],
 "metadata": {
  "kernelspec": {
   "display_name": "Python 3 (ipykernel)",
   "language": "python",
   "name": "python3"
  },
  "language_info": {
   "codemirror_mode": {
    "name": "ipython",
    "version": 3
   },
   "file_extension": ".py",
   "mimetype": "text/x-python",
   "name": "python",
   "nbconvert_exporter": "python",
   "pygments_lexer": "ipython3",
   "version": "3.11.4"
  }
 },
 "nbformat": 4,
 "nbformat_minor": 5
}
