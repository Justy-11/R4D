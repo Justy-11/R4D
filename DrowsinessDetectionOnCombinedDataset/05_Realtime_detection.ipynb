{
 "cells": [
  {
   "cell_type": "code",
   "execution_count": 1,
   "id": "60736f48",
   "metadata": {},
   "outputs": [],
   "source": [
    "import tensorflow as tf\n",
    "import cv2\n",
    "import os\n",
    "import matplotlib.pyplot as plt\n",
    "import numpy as np\n",
    "import pickle"
   ]
  },
  {
   "cell_type": "code",
   "execution_count": 2,
   "id": "3a1a8e57",
   "metadata": {},
   "outputs": [],
   "source": [
    "# load model file and history of the model\n",
    "saved_dir = 'D:/JATHURSH/Jupyter_notebook_projects/DrowsinessDetectionOnCombinedDataset/saved_data/models/'\n",
    "\n",
    "model = tf.keras.models.load_model(saved_dir + 'dr_det_model_1.h5')\n",
    "\n",
    "with open(saved_dir + 'dr_det_model_1_history.pkl', 'rb') as file:\n",
    "    history = pickle.load(file)"
   ]
  },
  {
   "cell_type": "code",
   "execution_count": 3,
   "id": "3d805b4f",
   "metadata": {},
   "outputs": [
    {
     "name": "stdout",
     "output_type": "stream",
     "text": [
      "INFO:tensorflow:Assets written to: C:\\Users\\DELL\\AppData\\Local\\Temp\\tmp92oj5y6g\\assets\n"
     ]
    },
    {
     "name": "stderr",
     "output_type": "stream",
     "text": [
      "INFO:tensorflow:Assets written to: C:\\Users\\DELL\\AppData\\Local\\Temp\\tmp92oj5y6g\\assets\n"
     ]
    }
   ],
   "source": [
    "from tensorflow.keras.applications.mobilenet_v2 import preprocess_input\n",
    "from tensorflow import lite\n",
    "\n",
    "# Convert the Keras model to TensorFlow Lite with float16 precision\n",
    "converter = lite.TFLiteConverter.from_keras_model(model)\n",
    "converter.optimizations = [lite.Optimize.DEFAULT]\n",
    "converter.target_spec.supported_ops = [tf.lite.OpsSet.TFLITE_BUILTINS, tf.lite.OpsSet.SELECT_TF_OPS]\n",
    "converter.target_spec.supported_types = [tf.float16]\n",
    "converter._experimental_lower_tensor_list_ops = False\n",
    "tflite_fp16_model = converter.convert()\n",
    "\n",
    "# Load the converted TensorFlow Lite model with float16 precision\n",
    "interpreter = tf.lite.Interpreter(model_content=tflite_fp16_model)\n",
    "interpreter.allocate_tensors()"
   ]
  },
  {
   "cell_type": "code",
   "execution_count": 4,
   "id": "df3530a5",
   "metadata": {},
   "outputs": [],
   "source": [
    "# Load the pre-trained Haar Cascade classifier for face detection\n",
    "face_cascade = cv2.CascadeClassifier(cv2.data.haarcascades + 'haarcascade_frontalface_default.xml')\n",
    "\n",
    "# Load the pre-trained Haar Cascade classifier for eye detection\n",
    "eye_cascade = cv2.CascadeClassifier(cv2.data.haarcascades + 'haarcascade_eye.xml')"
   ]
  },
  {
   "cell_type": "code",
   "execution_count": 5,
   "id": "59d78b16",
   "metadata": {},
   "outputs": [
    {
     "name": "stdout",
     "output_type": "stream",
     "text": [
      "pygame 2.5.2 (SDL 2.28.3, Python 3.11.4)\n",
      "Hello from the pygame community. https://www.pygame.org/contribute.html\n"
     ]
    }
   ],
   "source": [
    "from pygame import mixer\n",
    "\n",
    "# Initialize the mixer module\n",
    "mixer.init()\n",
    "\n",
    "alarm_sound_path = 'D:/JATHURSH/Jupyter_notebook_projects/DistractionDetectFinal/saved_data/test_assets/alarm.mp3'\n",
    "\n",
    "# Load the alarm sound\n",
    "mixer.music.load(alarm_sound_path)\n",
    "\n",
    "# # Play the alarm sound\n",
    "# mixer.music.play()\n",
    "\n",
    "# # Wait for a few seconds (you can adjust the duration)\n",
    "# time.sleep(2)\n",
    "\n",
    "# # Stop the alarm sound\n",
    "# mixer.music.stop()"
   ]
  },
  {
   "cell_type": "code",
   "execution_count": 11,
   "id": "df7597ea",
   "metadata": {},
   "outputs": [],
   "source": [
    "import time\n",
    "\n",
    "# Initialize the video capture from the default camera (0) or a video file\n",
    "cap = cv2.VideoCapture(0)  # Use 0 for default camera, or provide the video file path\n",
    "\n",
    "current_state_start_time = None\n",
    "warning_duration_threshold = 2\n",
    "    \n",
    "while True:\n",
    "    # Capture video frame-by-frame\n",
    "    ret, frame = cap.read()\n",
    "    \n",
    "    if not ret:\n",
    "        break  # Break the loop if no frame is captured\n",
    "    \n",
    "    # Convert the frame to grayscale\n",
    "    gray = cv2.cvtColor(frame, cv2.COLOR_BGR2GRAY)\n",
    "    \n",
    "    # Detect faces in the frame\n",
    "    faces = face_cascade.detectMultiScale(gray, scaleFactor=1.1, minNeighbors=4)\n",
    "    \n",
    "    for (x, y, w, h) in faces:\n",
    "        # Draw a rectangle around the face\n",
    "        cv2.rectangle(frame, (x, y), (x + w, y + h), (0, 255, 0), 2)\n",
    "        \n",
    "        # Crop the face region for eye detection\n",
    "        roi_gray = gray[y:y + h, x:x + w]\n",
    "        roi_color = frame[y:y + h, x:x + w]\n",
    "        \n",
    "        # Detect eyes in the face region\n",
    "        eyes = eye_cascade.detectMultiScale(roi_gray, scaleFactor=1.1, minNeighbors=4)\n",
    "        \n",
    "        for (ex, ey, ew, eh) in eyes:\n",
    "            # Draw a rectangle around the detected eye\n",
    "            cv2.rectangle(roi_color, (ex, ey), (ex + ew, ey + eh), (255, 0, 0), 2)\n",
    "            \n",
    "            # Crop the eye region\n",
    "            eye_roi = roi_gray[ey:ey + eh, ex:ex + ew]\n",
    "            \n",
    "            # Convert the grayscale image to RGB format\n",
    "            rgb_eye_roi = cv2.cvtColor(eye_roi, cv2.COLOR_GRAY2RGB)\n",
    "            \n",
    "            # Resize the eye image to 224x224 pixels\n",
    "            eye_resized = cv2.resize(rgb_eye_roi, (224, 224))\n",
    "            \n",
    "            # Adding the 4th dimension for compatibility with the mobileNetV2 model\n",
    "            final_eye_image = np.expand_dims(eye_resized, axis=0)\n",
    "            \n",
    "            # Normalize - using the same mobileNetV2's preprocess_input method\n",
    "            final_eye_image_preprocessed = tf.keras.applications.mobilenet_v2.preprocess_input(final_eye_image)\n",
    "            \n",
    "            # Set the input tensor for the model\n",
    "            interpreter.set_tensor(interpreter.get_input_details()[0]['index'], final_eye_image_preprocessed)\n",
    "\n",
    "            # Run inference\n",
    "            interpreter.invoke()\n",
    "            \n",
    "            drowsiness_prediction = interpreter.get_tensor(interpreter.get_output_details()[0]['index'])\n",
    "            \n",
    "            # Check if the prediction indicates drowsiness\n",
    "            is_awake = (drowsiness_prediction >= 0.5).astype(int)\n",
    "            \n",
    "            # Display the prediction result on the frame\n",
    "            label = \"Awake\" if is_awake else \"Drowsy\"\n",
    "            color = (0, 255, 0) if is_awake else (0, 0, 255)\n",
    "            cv2.putText(frame, label, (x, y - 10), cv2.FONT_HERSHEY_SIMPLEX, 0.5, color, 2)\n",
    "            \n",
    "            drowsiness_duration = 0\n",
    "            alarm_triggered = False\n",
    "            frame_rate = 30\n",
    "\n",
    "            if not is_awake:\n",
    "                elapsed_time = time.time() - current_state_start_time\n",
    "                if elapsed_time >= warning_duration_threshold:\n",
    "                    if not mixer.music.get_busy():\n",
    "                        warning_message = \"Warning: Driver is drowsy!\"\n",
    "                        cv2.putText(frame, warning_message, (x, y - 10), cv2.FONT_HERSHEY_SIMPLEX, 1, (0, 0, 255), 2)\n",
    "                        mixer.music.play()\n",
    "            else:\n",
    "                current_state_start_time = time.time()\n",
    "                mixer.music.stop()\n",
    "                \n",
    "    # Display the frame with detections and predictions\n",
    "    cv2.imshow(\"Drowsiness Detection\", frame)\n",
    "    \n",
    "    # Break the loop if the 'q' key is pressed\n",
    "    if cv2.waitKey(1) & 0xFF == ord('q'):\n",
    "        break\n",
    "\n",
    "# Release the video capture and close all OpenCV windows\n",
    "cap.release()\n",
    "cv2.destroyAllWindows()"
   ]
  },
  {
   "cell_type": "code",
   "execution_count": null,
   "id": "cdfece70",
   "metadata": {},
   "outputs": [],
   "source": []
  }
 ],
 "metadata": {
  "kernelspec": {
   "display_name": "Python 3 (ipykernel)",
   "language": "python",
   "name": "python3"
  },
  "language_info": {
   "codemirror_mode": {
    "name": "ipython",
    "version": 3
   },
   "file_extension": ".py",
   "mimetype": "text/x-python",
   "name": "python",
   "nbconvert_exporter": "python",
   "pygments_lexer": "ipython3",
   "version": "3.11.4"
  }
 },
 "nbformat": 4,
 "nbformat_minor": 5
}
