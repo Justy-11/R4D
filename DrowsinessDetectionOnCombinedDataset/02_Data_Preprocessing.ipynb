{
 "cells": [
  {
   "cell_type": "code",
   "execution_count": 1,
   "id": "ee884e1c",
   "metadata": {},
   "outputs": [],
   "source": [
    "import tensorflow as tf\n",
    "import cv2\n",
    "import os\n",
    "import matplotlib.pyplot as plt\n",
    "import numpy as np"
   ]
  },
  {
   "cell_type": "code",
   "execution_count": 2,
   "id": "77e3ff78",
   "metadata": {},
   "outputs": [
    {
     "name": "stdout",
     "output_type": "stream",
     "text": [
      "Images moved successfully\n"
     ]
    }
   ],
   "source": [
    "# separate into closed_eyes, and open_eyes folders - CEW (Closed Eyes in Wild) dataset\n",
    "import shutil\n",
    "\n",
    "# source directory of CEW dataset\n",
    "source_directory = 'D:/JATHURSH/SEMI-06/project/Closed Eyes In The Wild (CEW) dataset/dataset_B_Eye_Images'\n",
    "\n",
    "# destination directory to move the images.\n",
    "destination_directory = 'D:/JATHURSH/Jupyter_notebook_projects/CEW dataset'\n",
    "\n",
    "# Create subdirectories for open and closed eyes within the destination directory\n",
    "os.makedirs(os.path.join(destination_directory, 'open_eyes'), exist_ok=True)\n",
    "os.makedirs(os.path.join(destination_directory, 'closed_eyes'), exist_ok=True)\n",
    "\n",
    "# Walk through the source directory and its subfolders\n",
    "for root, dirs, files in os.walk(source_directory):\n",
    "    for file in files:\n",
    "        # Check if the file is an image (you can customize the file extensions as needed)\n",
    "        if file.lower().endswith(('.jpg', '.jpeg', '.png')):\n",
    "            # Determine if it's an open or closed eye based on the subfolder name\n",
    "            if 'open' in root.lower():\n",
    "                destination = os.path.join(destination_directory, 'open_eyes', file)\n",
    "            elif 'closed' in root.lower():\n",
    "                destination = os.path.join(destination_directory, 'closed_eyes', file)\n",
    "            else:\n",
    "                continue  # Skip files that don't fit the naming convention\n",
    "\n",
    "            # Move the file to the appropriate destination\n",
    "            shutil.move(os.path.join(root, file), destination)\n",
    "\n",
    "print(\"Images moved successfully\")"
   ]
  },
  {
   "cell_type": "code",
   "execution_count": 3,
   "id": "ca455f98",
   "metadata": {},
   "outputs": [
    {
     "name": "stdout",
     "output_type": "stream",
     "text": [
      "Images moved successfully\n"
     ]
    }
   ],
   "source": [
    "# separate into closed_eyes, and open_eyes folders - ZJU Eyeblink dataset\n",
    "# source directory of CEW dataset\n",
    "source_directory = 'D:/JATHURSH/SEMI-06/project/Eyeblink_ZJU_dataset/Dataset_A_Eye_Images'\n",
    "\n",
    "# destination directory to move the images.\n",
    "destination_directory = 'D:/JATHURSH/Jupyter_notebook_projects/ZJU dataset'\n",
    "\n",
    "# Create subdirectories for open and closed eyes within the destination directory\n",
    "os.makedirs(os.path.join(destination_directory, 'open_eyes'), exist_ok=True)\n",
    "os.makedirs(os.path.join(destination_directory, 'closed_eyes'), exist_ok=True)\n",
    "\n",
    "# Walk through the source directory and its subfolders\n",
    "for root, dirs, files in os.walk(source_directory):\n",
    "    for file in files:\n",
    "        # Check if the file is an image (you can customize the file extensions as needed)\n",
    "        if file.lower().endswith(('.jpg', '.jpeg', '.png')):\n",
    "            # Determine if it's an open or closed eye based on the subfolder name\n",
    "            if 'open' in root.lower():\n",
    "                destination = os.path.join(destination_directory, 'open_eyes', file)\n",
    "            elif 'closed' in root.lower():\n",
    "                destination = os.path.join(destination_directory, 'closed_eyes', file)\n",
    "            else:\n",
    "                continue  # Skip files that don't fit the naming convention\n",
    "\n",
    "            # Move the file to the appropriate destination\n",
    "            shutil.move(os.path.join(root, file), destination)\n",
    "\n",
    "print(\"Images moved successfully\")"
   ]
  },
  {
   "cell_type": "code",
   "execution_count": 4,
   "id": "94212fa7",
   "metadata": {},
   "outputs": [],
   "source": [
    "test_img_array_CEW = cv2.imread(\"D:/JATHURSH/Jupyter_notebook_projects/CEW dataset/closed_eyes/closed_eye_0061.jpg_face_1_L.jpg\",cv2.IMREAD_GRAYSCALE)\n",
    "test_img_array_ZJU = cv2.imread(\"D:/JATHURSH/Jupyter_notebook_projects/ZJU dataset/open_eyes\\h0036.jpg\",cv2.IMREAD_GRAYSCALE)"
   ]
  },
  {
   "cell_type": "code",
   "execution_count": 5,
   "id": "253b8655",
   "metadata": {},
   "outputs": [
    {
     "data": {
      "text/plain": [
       "<matplotlib.image.AxesImage at 0x153e0c4b390>"
      ]
     },
     "execution_count": 5,
     "metadata": {},
     "output_type": "execute_result"
    },
    {
     "data": {
      "image/png": "[encoded data removed]",
      "text/plain": [
       "<Figure size 640x480 with 1 Axes>"
      ]
     },
     "metadata": {},
     "output_type": "display_data"
    }
   ],
   "source": [
    "plt.imshow(test_img_array_CEW, cmap=\"gray\")"
   ]
  },
  {
   "cell_type": "code",
   "execution_count": 6,
   "id": "f385b079",
   "metadata": {},
   "outputs": [
    {
     "data": {
      "text/plain": [
       "<matplotlib.image.AxesImage at 0x153e0dc8b50>"
      ]
     },
     "execution_count": 6,
     "metadata": {},
     "output_type": "execute_result"
    },
    {
     "data": {
      "image/png": "[encoded data removed]",
      "text/plain": [
       "<Figure size 640x480 with 1 Axes>"
      ]
     },
     "metadata": {},
     "output_type": "display_data"
    }
   ],
   "source": [
    "plt.imshow(test_img_array_ZJU, cmap=\"gray\")"
   ]
  },
  {
   "cell_type": "code",
   "execution_count": 7,
   "id": "1cdb7e32",
   "metadata": {},
   "outputs": [
    {
     "data": {
      "text/plain": [
       "(24, 24)"
      ]
     },
     "execution_count": 7,
     "metadata": {},
     "output_type": "execute_result"
    }
   ],
   "source": [
    "test_img_array_CEW.shape"
   ]
  },
  {
   "cell_type": "code",
   "execution_count": 8,
   "id": "337603dc",
   "metadata": {},
   "outputs": [
    {
     "data": {
      "text/plain": [
       "(24, 24)"
      ]
     },
     "execution_count": 8,
     "metadata": {},
     "output_type": "execute_result"
    }
   ],
   "source": [
    "test_img_array_ZJU.shape"
   ]
  },
  {
   "cell_type": "code",
   "execution_count": 15,
   "id": "7640c0a9",
   "metadata": {},
   "outputs": [],
   "source": [
    "data_dir_CEW = 'D:/JATHURSH/Jupyter_notebook_projects/CEW dataset'\n",
    "data_dir_ZJU = 'D:/JATHURSH/Jupyter_notebook_projects/ZJU dataset'\n",
    "sub_dir_classes = [\"closed_eyes\",\"open_eyes\"]\n",
    "img_size = 224 \n",
    "\n",
    "# Define method - to read all images and convert them into array for data and labels\n",
    "full_dataset_CEW = []\n",
    "full_dataset_ZJU = []\n",
    "\n",
    "# defining a method to create dataset array with img_array + label\n",
    "def create_full_dataset(data_dir, full_dataset):\n",
    "    for sub_dir in sub_dir_classes:\n",
    "        path = os.path.join(data_dir, sub_dir)\n",
    "        label = sub_dir_classes.index(sub_dir) # 0 - closed or 1 - open\n",
    "        for img in os.listdir(path):\n",
    "            try:\n",
    "                img_array = cv2.imread(os.path.join(path, img), cv2.IMREAD_GRAYSCALE)\n",
    "                back_to_rgb = cv2.cvtColor(img_array, cv2.COLOR_GRAY2RGB)\n",
    "                new_img_array = cv2.resize(back_to_rgb, (img_size, img_size))\n",
    "                full_dataset.append([new_img_array, label])\n",
    "            except Exception as e:\n",
    "                pass"
   ]
  },
  {
   "cell_type": "code",
   "execution_count": 16,
   "id": "e81c4c08",
   "metadata": {},
   "outputs": [],
   "source": [
    "# create img + label array for both CEW and ZJU\n",
    "create_full_dataset(data_dir_CEW, full_dataset_CEW)\n",
    "create_full_dataset(data_dir_ZJU, full_dataset_ZJU)"
   ]
  },
  {
   "cell_type": "code",
   "execution_count": 17,
   "id": "dd89488a",
   "metadata": {},
   "outputs": [
    {
     "data": {
      "text/plain": [
       "(4846, 8984)"
      ]
     },
     "execution_count": 17,
     "metadata": {},
     "output_type": "execute_result"
    }
   ],
   "source": [
    "len(full_dataset_CEW), len(full_dataset_ZJU)"
   ]
  },
  {
   "cell_type": "code",
   "execution_count": 20,
   "id": "a9bc8bb1",
   "metadata": {},
   "outputs": [
    {
     "name": "stdout",
     "output_type": "stream",
     "text": [
      "CEW - X shape: (4846, 224, 224, 3)\n",
      "CEW - y shape: (4846,)\n",
      "ZJU - X shape: (3984, 224, 224, 3)\n",
      "ZJU - y shape: (3984,)\n"
     ]
    }
   ],
   "source": [
    "import random\n",
    "\n",
    "# Shuffle both CEW and ZJU datasets\n",
    "random.shuffle(full_dataset_CEW)\n",
    "random.shuffle(full_dataset_ZJU)\n",
    "\n",
    "# Select 2000 open eyes images randomly from the ZJU open eyes dataset - to balance between open and close eyes\n",
    "num_open_eyes_to_select = 2000\n",
    "selected_open_eyes = random.sample([item for item in full_dataset_ZJU if item[1] == 1], num_open_eyes_to_select)\n",
    "\n",
    "# Create feature and label arrays (X and y) for CEW\n",
    "X_CEW = np.array([item[0] for item in full_dataset_CEW])\n",
    "y_CEW = np.array([item[1] for item in full_dataset_CEW])\n",
    "\n",
    "# Create feature and label arrays (X and y) for ZJU\n",
    "# Append the randomly selected open eyes images to the ZJU dataset\n",
    "X_ZJU_closed = np.array([item[0] for item in full_dataset_ZJU if item[1] == 0])\n",
    "y_ZJU_closed = np.array([item[1] for item in full_dataset_ZJU if item[1] == 0])\n",
    "\n",
    "# Convert the images in selected_open_eyes to NumPy arrays\n",
    "X_ZJU_open = np.array([item[0] for item in selected_open_eyes])\n",
    "y_ZJU_open = np.array([1] * num_open_eyes_to_select)\n",
    "\n",
    "# Concatenate the closed and open eye arrays\n",
    "X_ZJU = np.concatenate((X_ZJU_closed, X_ZJU_open))\n",
    "y_ZJU = np.concatenate((y_ZJU_closed, y_ZJU_open))\n",
    "\n",
    "# Shuffle ZJU to mix open and close eyes\n",
    "shuffle_indices = np.arange(len(X_ZJU))\n",
    "np.random.shuffle(shuffle_indices)\n",
    "X_ZJU = X_ZJU[shuffle_indices]\n",
    "y_ZJU = y_ZJU[shuffle_indices]\n",
    "\n",
    "# Verify the shapes of X and y for CEW and ZJU\n",
    "print(\"CEW - X shape:\", X_CEW.shape)\n",
    "print(\"CEW - y shape:\", y_CEW.shape)\n",
    "print(\"ZJU - X shape:\", X_ZJU.shape)\n",
    "print(\"ZJU - y shape:\", y_ZJU.shape)"
   ]
  },
  {
   "cell_type": "code",
   "execution_count": 29,
   "id": "48a5e238",
   "metadata": {},
   "outputs": [],
   "source": [
    "# delete unwanted arrays to free up mem\n",
    "del full_dataset_CEW\n",
    "del full_dataset_ZJU"
   ]
  },
  {
   "cell_type": "code",
   "execution_count": 33,
   "id": "39b6e5c3",
   "metadata": {},
   "outputs": [
    {
     "data": {
      "text/plain": [
       "1"
      ]
     },
     "execution_count": 33,
     "metadata": {},
     "output_type": "execute_result"
    },
    {
     "data": {
      "image/png": "[encoded data removed]",
      "text/plain": [
       "<Figure size 640x480 with 1 Axes>"
      ]
     },
     "metadata": {},
     "output_type": "display_data"
    }
   ],
   "source": [
    "plt.imshow(X_ZJU[200], cmap=\"gray\")\n",
    "y_ZJU[200]"
   ]
  },
  {
   "cell_type": "code",
   "execution_count": 34,
   "id": "4bf055b6",
   "metadata": {},
   "outputs": [],
   "source": [
    "# train, test, validation splitting for CEW\n",
    "from sklearn.model_selection import train_test_split\n",
    "\n",
    "# Split the data into a training set and a temporary set (70% training, 30% temporary)\n",
    "X_train_CEW, X_temp_CEW, y_train_CEW, y_temp_CEW = train_test_split(X_CEW, y_CEW, test_size=0.3, random_state=0)"
   ]
  },
  {
   "cell_type": "code",
   "execution_count": 35,
   "id": "3464a948",
   "metadata": {},
   "outputs": [],
   "source": [
    "# Split the temporary set into a validation set and a test set (50% validation, 50% test)\n",
    "X_val_CEW, X_test_CEW, y_val_CEW, y_test_CEW = train_test_split(X_temp_CEW, y_temp_CEW, test_size=0.5, random_state=0)"
   ]
  },
  {
   "cell_type": "code",
   "execution_count": 36,
   "id": "52c6e577",
   "metadata": {},
   "outputs": [
    {
     "name": "stdout",
     "output_type": "stream",
     "text": [
      "(3392, 224, 224, 3) (3392,) (727, 224, 224, 3) (727, 224, 224, 3) (727,) (727,)\n"
     ]
    }
   ],
   "source": [
    "print(X_train_CEW.shape, y_train_CEW.shape, X_val_CEW.shape, X_test_CEW.shape, y_val_CEW.shape, y_test_CEW.shape)"
   ]
  },
  {
   "cell_type": "code",
   "execution_count": 37,
   "id": "2608251d",
   "metadata": {},
   "outputs": [],
   "source": [
    "# train, test, validation splitting for ZJU\n",
    "\n",
    "# Split the data into a training set and a temporary set (70% training, 30% temporary)\n",
    "X_train_ZJU, X_temp_ZJU, y_train_ZJU, y_temp_ZJU = train_test_split(X_ZJU, y_ZJU, test_size=0.3, random_state=0)"
   ]
  },
  {
   "cell_type": "code",
   "execution_count": 38,
   "id": "266e7ec5",
   "metadata": {},
   "outputs": [],
   "source": [
    "# Split the temporary set into a validation set and a test set (50% validation, 50% test)\n",
    "X_val_ZJU, X_test_ZJU, y_val_ZJU, y_test_ZJU = train_test_split(X_temp_ZJU, y_temp_ZJU, test_size=0.5, random_state=0)"
   ]
  },
  {
   "cell_type": "code",
   "execution_count": 39,
   "id": "1ea5e515",
   "metadata": {},
   "outputs": [
    {
     "name": "stdout",
     "output_type": "stream",
     "text": [
      "(2788, 224, 224, 3) (2788,) (598, 224, 224, 3) (598, 224, 224, 3) (598,) (598,)\n"
     ]
    }
   ],
   "source": [
    "print(X_train_ZJU.shape, y_train_ZJU.shape, X_val_ZJU.shape, X_test_ZJU.shape, y_val_ZJU.shape, y_test_ZJU.shape)"
   ]
  },
  {
   "cell_type": "code",
   "execution_count": 41,
   "id": "3a593eb1",
   "metadata": {},
   "outputs": [],
   "source": [
    "# free up mem\n",
    "del X_temp_CEW\n",
    "del y_temp_CEW\n",
    "del X_temp_ZJU\n",
    "del y_temp_ZJU"
   ]
  },
  {
   "cell_type": "code",
   "execution_count": 42,
   "id": "70cb610d",
   "metadata": {},
   "outputs": [],
   "source": [
    "# Normalizing using mobilNetV2 - preprocess_input method (it normalizes from 0 - 255 to -1 - 1 and returns in float32)\n",
    "# CEW\n",
    "X_train_CEW_preprocessed = tf.keras.applications.mobilenet_v2.preprocess_input(X_train_CEW)\n",
    "X_val_CEW_preprocessed = tf.keras.applications.mobilenet_v2.preprocess_input(X_val_CEW)\n",
    "X_test_CEW_preprocessed = tf.keras.applications.mobilenet_v2.preprocess_input(X_test_CEW)"
   ]
  },
  {
   "cell_type": "code",
   "execution_count": 43,
   "id": "0a45650c",
   "metadata": {},
   "outputs": [],
   "source": [
    "# ZJU\n",
    "X_train_ZJU_preprocessed = tf.keras.applications.mobilenet_v2.preprocess_input(X_train_ZJU)\n",
    "X_val_ZJU_preprocessed = tf.keras.applications.mobilenet_v2.preprocess_input(X_val_ZJU)\n",
    "X_test_ZJU_preprocessed = tf.keras.applications.mobilenet_v2.preprocess_input(X_test_ZJU)"
   ]
  },
  {
   "cell_type": "code",
   "execution_count": 50,
   "id": "ae3f0fe5",
   "metadata": {},
   "outputs": [
    {
     "data": {
      "text/plain": [
       "(-1.0, 1.0, -1.0, 1.0)"
      ]
     },
     "execution_count": 50,
     "metadata": {},
     "output_type": "execute_result"
    }
   ],
   "source": [
    "X_train_CEW_preprocessed.min(), X_train_CEW_preprocessed.max(), X_train_ZJU_preprocessed.min(), X_train_ZJU_preprocessed.max()"
   ]
  },
  {
   "cell_type": "code",
   "execution_count": 51,
   "id": "9aeeb31e",
   "metadata": {},
   "outputs": [],
   "source": [
    "# save train, test, val split data\n",
    "# Save the numpy array to the specified directory\n",
    "save_dir_CEW = 'D:/JATHURSH/Jupyter_notebook_projects/DrowsinessDetectionOnCombinedDataset/saved_data/train_test_val_splits_preprocessed/CEW/'\n",
    "save_dir_ZJU = 'D:/JATHURSH/Jupyter_notebook_projects/DrowsinessDetectionOnCombinedDataset/saved_data/train_test_val_splits_preprocessed/ZJU/'\n",
    "\n",
    "np.save(save_dir_CEW + 'X_train_CEW_preprocessed.npy', X_train_CEW_preprocessed)\n",
    "np.save(save_dir_CEW + 'X_val_CEW_preprocessed.npy', X_val_CEW_preprocessed)\n",
    "np.save(save_dir_CEW + 'X_test_CEW_preprocessed.npy', X_test_CEW_preprocessed)\n",
    "np.save(save_dir_CEW + 'y_train_CEW.npy', y_train_CEW)\n",
    "np.save(save_dir_CEW + 'y_val_CEW.npy' ,y_val_CEW)\n",
    "np.save(save_dir_CEW + 'y_test_CEW.npy' ,y_test_CEW)\n",
    "\n",
    "np.save(save_dir_ZJU + 'X_train_ZJU_preprocessed.npy' ,X_train_ZJU_preprocessed)\n",
    "np.save(save_dir_ZJU + 'X_val_ZJU_preprocessed.npy' ,X_val_ZJU_preprocessed)\n",
    "np.save(save_dir_ZJU + 'X_test_ZJU_preprocessed.npy' ,X_test_ZJU_preprocessed)\n",
    "np.save(save_dir_ZJU + 'y_train_ZJU.npy', y_train_ZJU)\n",
    "np.save(save_dir_ZJU + 'y_val_ZJU.npy' ,y_val_ZJU)\n",
    "np.save(save_dir_ZJU + 'y_test_ZJU.npy' ,y_test_ZJU)"
   ]
  },
  {
   "cell_type": "code",
   "execution_count": 52,
   "id": "3804f01f",
   "metadata": {},
   "outputs": [],
   "source": [
    "# free up mem\n",
    "del X_CEW\n",
    "del y_CEW\n",
    "del X_ZJU\n",
    "del y_ZJU"
   ]
  },
  {
   "cell_type": "code",
   "execution_count": 54,
   "id": "9143c9e9",
   "metadata": {},
   "outputs": [],
   "source": [
    "# load MRL eye train, test, val splits\n",
    "saved_dir_MRL = 'D:/JATHURSH/Jupyter_notebook_projects/Saved_stuff_from_drowsiness_detection_project/half_data_train_test_validation_split/'\n",
    "X_train_MRL_preprocessed = np.load(saved_dir_MRL + 'X_train_preprocessed.npy')\n",
    "\n",
    "X_test_MRL_preprocessed = np.load(saved_dir_MRL + 'X_test_preprocessed.npy')\n",
    "\n",
    "X_val_MRL_preprocessed = np.load(saved_dir_MRL + 'X_val_preprocessed.npy')\n",
    "\n",
    "y_train_MRL = np.load(saved_dir_MRL + 'y_train.npy')\n",
    "\n",
    "y_test_MRL = np.load(saved_dir_MRL + 'y_test.npy')\n",
    "\n",
    "y_val_MRL = np.load(saved_dir_MRL + 'y_val.npy')"
   ]
  },
  {
   "cell_type": "code",
   "execution_count": 59,
   "id": "57a0b4a0",
   "metadata": {},
   "outputs": [],
   "source": [
    "# Combine 3 dataset splits together to from combined data and labels\n",
    "X_train = np.concatenate((X_train_CEW_preprocessed, X_train_ZJU_preprocessed, X_train_MRL_preprocessed), axis=0)"
   ]
  },
  {
   "cell_type": "code",
   "execution_count": 60,
   "id": "5e6fa0d3",
   "metadata": {},
   "outputs": [],
   "source": [
    "# free up mem\n",
    "del X_train_CEW_preprocessed\n",
    "del X_train_ZJU_preprocessed\n",
    "del X_train_MRL_preprocessed"
   ]
  },
  {
   "cell_type": "code",
   "execution_count": 61,
   "id": "babc76ca",
   "metadata": {},
   "outputs": [],
   "source": [
    "X_val = np.concatenate((X_val_CEW_preprocessed, X_val_ZJU_preprocessed, X_val_MRL_preprocessed), axis=0)\n",
    "X_test = np.concatenate((X_test_CEW_preprocessed, X_test_ZJU_preprocessed, X_test_MRL_preprocessed), axis=0)"
   ]
  },
  {
   "cell_type": "code",
   "execution_count": 62,
   "id": "f6d3fbda",
   "metadata": {},
   "outputs": [],
   "source": [
    "# free up mem\n",
    "del X_val_CEW_preprocessed\n",
    "del X_val_ZJU_preprocessed\n",
    "del X_val_MRL_preprocessed\n",
    "del X_test_CEW_preprocessed\n",
    "del X_test_ZJU_preprocessed\n",
    "del X_test_MRL_preprocessed"
   ]
  },
  {
   "cell_type": "code",
   "execution_count": 63,
   "id": "df34ec40",
   "metadata": {},
   "outputs": [],
   "source": [
    "y_train = np.concatenate((y_train_CEW, y_train_ZJU, y_train_MRL), axis=0)\n",
    "y_val = np.concatenate((y_val_CEW, y_val_ZJU, y_val_MRL), axis=0)\n",
    "y_test = np.concatenate((y_test_CEW, y_test_ZJU, y_test_MRL), axis=0)"
   ]
  },
  {
   "cell_type": "code",
   "execution_count": 64,
   "id": "e6a19ff3",
   "metadata": {},
   "outputs": [],
   "source": [
    "# free up mem\n",
    "del y_train_CEW\n",
    "del y_train_ZJU\n",
    "del y_train_MRL\n",
    "del y_val_CEW\n",
    "del y_val_ZJU\n",
    "del y_val_MRL\n",
    "del y_test_CEW\n",
    "del y_test_ZJU\n",
    "del y_test_MRL"
   ]
  },
  {
   "cell_type": "code",
   "execution_count": 66,
   "id": "f9e166bc",
   "metadata": {},
   "outputs": [],
   "source": [
    "# Shuffle the combined dataset\n",
    "shuffle_indices = np.arange(len(X_train))\n",
    "np.random.shuffle(shuffle_indices)"
   ]
  },
  {
   "cell_type": "code",
   "execution_count": 67,
   "id": "55b27eeb",
   "metadata": {},
   "outputs": [],
   "source": [
    "X_train = X_train[shuffle_indices]"
   ]
  },
  {
   "cell_type": "code",
   "execution_count": 68,
   "id": "7ed52acb",
   "metadata": {},
   "outputs": [],
   "source": [
    "y_train = y_train[shuffle_indices]\n",
    "\n",
    "shuffle_indices = np.arange(len(X_val))\n",
    "np.random.shuffle(shuffle_indices)\n",
    "\n",
    "X_val = X_val[shuffle_indices]\n",
    "y_val = y_val[shuffle_indices]\n",
    "\n",
    "shuffle_indices = np.arange(len(X_test))\n",
    "np.random.shuffle(shuffle_indices)\n",
    "\n",
    "X_test = X_test[shuffle_indices]\n",
    "y_test = y_test[shuffle_indices]"
   ]
  },
  {
   "cell_type": "code",
   "execution_count": 69,
   "id": "832866c5",
   "metadata": {},
   "outputs": [
    {
     "name": "stdout",
     "output_type": "stream",
     "text": [
      "X_train shape: (35894, 224, 224, 3)\n",
      "X_val shape: (7692, 224, 224, 3)\n",
      "X_test shape: (7693, 224, 224, 3)\n",
      "y_train shape: (35894,)\n",
      "y_val shape: (7692,)\n",
      "y_test shape: (7693,)\n"
     ]
    }
   ],
   "source": [
    "print(\"X_train shape:\", X_train.shape)\n",
    "print(\"X_val shape:\", X_val.shape)\n",
    "print(\"X_test shape:\", X_test.shape)\n",
    "print(\"y_train shape:\", y_train.shape)\n",
    "print(\"y_val shape:\", y_val.shape)\n",
    "print(\"y_test shape:\", y_test.shape)"
   ]
  },
  {
   "cell_type": "code",
   "execution_count": 70,
   "id": "475b1a90",
   "metadata": {},
   "outputs": [],
   "source": [
    "# save this combined train, test, validation split\n",
    "save_dir = 'D:/JATHURSH/Jupyter_notebook_projects/DrowsinessDetectionOnCombinedDataset/saved_data/train_test_val_splits_preprocessed_combined_dataset/'\n",
    "\n",
    "np.save(save_dir + 'X_train.npy', X_train)\n",
    "np.save(save_dir + 'X_val.npy', X_val)\n",
    "np.save(save_dir + 'X_test.npy', X_test)\n",
    "np.save(save_dir + 'y_train.npy', y_train)\n",
    "np.save(save_dir + 'y_val.npy' ,y_val)\n",
    "np.save(save_dir + 'y_test.npy' ,y_test)"
   ]
  },
  {
   "cell_type": "code",
   "execution_count": null,
   "id": "842e64fe",
   "metadata": {},
   "outputs": [],
   "source": []
  }
 ],
 "metadata": {
  "kernelspec": {
   "display_name": "Python 3 (ipykernel)",
   "language": "python",
   "name": "python3"
  },
  "language_info": {
   "codemirror_mode": {
    "name": "ipython",
    "version": 3
   },
   "file_extension": ".py",
   "mimetype": "text/x-python",
   "name": "python",
   "nbconvert_exporter": "python",
   "pygments_lexer": "ipython3",
   "version": "3.11.4"
  }
 },
 "nbformat": 4,
 "nbformat_minor": 5
}
