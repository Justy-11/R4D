{
 "cells": [
  {
   "cell_type": "code",
   "execution_count": 1,
   "id": "146612c4",
   "metadata": {},
   "outputs": [],
   "source": [
    "import tensorflow as tf\n",
    "import numpy as np\n",
    "import cv2\n",
    "import matplotlib.pyplot as plt\n",
    "import os"
   ]
  },
  {
   "cell_type": "code",
   "execution_count": 2,
   "id": "ec260ab0",
   "metadata": {},
   "outputs": [],
   "source": [
    "import pickle\n",
    "\n",
    "save_dir = 'D:/JATHURSH/Jupyter_notebook_projects/Saved_stuff_from_drowsiness_detection_project/X_and_y_(features_and_leabels)_numpy_arrays/'\n",
    "\n",
    "# load the data back using pickle like this:\n",
    "with open(os.path.join(save_dir, 'X.pkl'), 'rb') as file:\n",
    "    X = pickle.load(file)\n",
    "    \n",
    "with open(os.path.join(save_dir, 'y.pkl'), 'rb') as file:\n",
    "    y = pickle.load(file)"
   ]
  },
  {
   "cell_type": "code",
   "execution_count": 3,
   "id": "b401a226",
   "metadata": {},
   "outputs": [],
   "source": [
    "\"\"\"\n",
    "specifying an integer value for random_state, such as random_state=0 in the code, make the data splitting process\n",
    "reproducible. Providing the same random_state value will result in the same data split every time you run the code with the \n",
    "same dataset.\n",
    "\"\"\"\n",
    "# train, test, validation splitting\n",
    "from sklearn.model_selection import train_test_split\n",
    "\n",
    "# Split the data into a training set and a temporary set (70% training, 30% temporary)\n",
    "X_train, X_temp, y_train, y_temp = train_test_split(X, y, test_size=0.3, random_state=0)"
   ]
  },
  {
   "cell_type": "code",
   "execution_count": 4,
   "id": "60064417",
   "metadata": {},
   "outputs": [],
   "source": [
    "# Split the temporary set into a validation set and a test set (50% validation, 50% test)\n",
    "X_val, X_test, y_val, y_test = train_test_split(X_temp, y_temp, test_size=0.5, random_state=0)"
   ]
  },
  {
   "cell_type": "code",
   "execution_count": 5,
   "id": "c8dca530",
   "metadata": {},
   "outputs": [],
   "source": [
    "# save all preprocessed test, train, val splits in numpy arrays\n",
    "\n",
    "# Save the numpy array to the specified directory\n",
    "np.save('D:/JATHURSH/Jupyter_notebook_projects/Saved_stuff_from_drowsiness_detection_project/full_data_train_test_validation_split/X_train.npy'\n",
    "        ,X_train)\n",
    "\n",
    "np.save('D:/JATHURSH/Jupyter_notebook_projects/Saved_stuff_from_drowsiness_detection_project/full_data_train_test_validation_split/X_val.npy'\n",
    "        ,X_val)\n",
    "\n",
    "np.save('D:/JATHURSH/Jupyter_notebook_projects/Saved_stuff_from_drowsiness_detection_project/full_data_train_test_validation_split/X_test.npy'\n",
    "        ,X_test)\n",
    "\n",
    "np.save('D:/JATHURSH/Jupyter_notebook_projects/Saved_stuff_from_drowsiness_detection_project/full_data_train_test_validation_split/y_train.npy'\n",
    "        ,y_train)\n",
    "\n",
    "np.save('D:/JATHURSH/Jupyter_notebook_projects/Saved_stuff_from_drowsiness_detection_project/full_data_train_test_validation_split/y_val.npy'\n",
    "        ,y_val)\n",
    "\n",
    "np.save('D:/JATHURSH/Jupyter_notebook_projects/Saved_stuff_from_drowsiness_detection_project/full_data_train_test_validation_split/y_test.npy'\n",
    "        ,y_test)"
   ]
  },
  {
   "cell_type": "code",
   "execution_count": null,
   "id": "995e4d58",
   "metadata": {},
   "outputs": [],
   "source": []
  }
 ],
 "metadata": {
  "kernelspec": {
   "display_name": "Python 3 (ipykernel)",
   "language": "python",
   "name": "python3"
  },
  "language_info": {
   "codemirror_mode": {
    "name": "ipython",
    "version": 3
   },
   "file_extension": ".py",
   "mimetype": "text/x-python",
   "name": "python",
   "nbconvert_exporter": "python",
   "pygments_lexer": "ipython3",
   "version": "3.11.4"
  }
 },
 "nbformat": 4,
 "nbformat_minor": 5
}
