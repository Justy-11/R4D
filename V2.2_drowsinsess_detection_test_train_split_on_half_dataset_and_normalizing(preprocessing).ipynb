{
 "cells": [
  {
   "cell_type": "code",
   "execution_count": 1,
   "id": "75ede706",
   "metadata": {},
   "outputs": [],
   "source": [
    "import tensorflow as tf\n",
    "import numpy as np\n",
    "import cv2\n",
    "import matplotlib.pyplot as plt\n",
    "import os\n",
    "import pickle"
   ]
  },
  {
   "cell_type": "code",
   "execution_count": 2,
   "id": "56db5d04",
   "metadata": {},
   "outputs": [],
   "source": [
    "save_dir = 'D:/JATHURSH/Jupyter_notebook_projects/Saved_stuff_from_drowsiness_detection_project/X_and_y_(features_and_leabels)_numpy_arrays/'\n",
    "\n",
    "# load the data back using pickle like this:\n",
    "with open(os.path.join(save_dir, 'X.pkl'), 'rb') as file:\n",
    "    X = pickle.load(file)\n",
    "    \n",
    "with open(os.path.join(save_dir, 'y.pkl'), 'rb') as file:\n",
    "    y = pickle.load(file)"
   ]
  },
  {
   "cell_type": "code",
   "execution_count": 3,
   "id": "123a991a",
   "metadata": {},
   "outputs": [],
   "source": [
    "# reduce X, y to half data\n",
    "\n",
    "# Calculate the size of the first half\n",
    "half_size = len(X) // 2\n",
    "\n",
    "# Select the first half of X and y\n",
    "X_first_half = X[:half_size]\n",
    "y_first_half = y[:half_size]\n",
    "\n",
    "# Save the selected data into new numpy arrays or files\n",
    "np.save('X_first_half.npy', X_first_half)\n",
    "np.save('y_first_half.npy', y_first_half)"
   ]
  },
  {
   "cell_type": "code",
   "execution_count": 4,
   "id": "ac1d5a56",
   "metadata": {},
   "outputs": [
    {
     "data": {
      "text/plain": [
       "(42449, 224, 224, 3)"
      ]
     },
     "execution_count": 4,
     "metadata": {},
     "output_type": "execute_result"
    }
   ],
   "source": [
    "X_first_half.shape"
   ]
  },
  {
   "cell_type": "code",
   "execution_count": 5,
   "id": "294629bc",
   "metadata": {},
   "outputs": [],
   "source": [
    "\"\"\"\n",
    "specifying an integer value for random_state, such as random_state=0 in the code, make the data splitting process\n",
    "reproducible. Providing the same random_state value will result in the same data split every time you run the code with the \n",
    "same dataset.\n",
    "\"\"\"\n",
    "# train, test, validation splitting\n",
    "from sklearn.model_selection import train_test_split\n",
    "\n",
    "# Split the data into a training set and a temporary set (70% training, 30% temporary)\n",
    "X_train, X_temp, y_train, y_temp = train_test_split(X_first_half, y_first_half, test_size=0.3, random_state=0)"
   ]
  },
  {
   "cell_type": "code",
   "execution_count": 6,
   "id": "2548167e",
   "metadata": {},
   "outputs": [],
   "source": [
    "# Split the temporary set into a validation set and a test set (50% validation, 50% test)\n",
    "X_val, X_test, y_val, y_test = train_test_split(X_temp, y_temp, test_size=0.5, random_state=0)"
   ]
  },
  {
   "cell_type": "code",
   "execution_count": 8,
   "id": "4a8f43ca",
   "metadata": {},
   "outputs": [
    {
     "name": "stdout",
     "output_type": "stream",
     "text": [
      "(29714, 224, 224, 3) (29714,) (6367, 224, 224, 3) (6368, 224, 224, 3) (6367,) (6368,)\n"
     ]
    }
   ],
   "source": [
    "print(X_train.shape, y_train.shape, X_val.shape, X_test.shape, y_val.shape, y_test.shape)"
   ]
  },
  {
   "cell_type": "code",
   "execution_count": 9,
   "id": "2550971a",
   "metadata": {},
   "outputs": [],
   "source": [
    "# free up memory\n",
    "X_temp = []\n",
    "y_temp = []"
   ]
  },
  {
   "cell_type": "code",
   "execution_count": 10,
   "id": "28639c11",
   "metadata": {},
   "outputs": [],
   "source": [
    "# preprocess using mobilNetV2 - preprocess_input method\n",
    "X_train_preprocessed = tf.keras.applications.mobilenet_v2.preprocess_input(X_train)\n",
    "X_val_preprocessed = tf.keras.applications.mobilenet_v2.preprocess_input(X_val)\n",
    "X_test_preprocessed = tf.keras.applications.mobilenet_v2.preprocess_input(X_test)                                                          "
   ]
  },
  {
   "cell_type": "code",
   "execution_count": 11,
   "id": "19662af1",
   "metadata": {},
   "outputs": [],
   "source": [
    "# save all preprocessed test, train, val splits in numpy arrays\n",
    "\n",
    "# Save the numpy array to the specified directory\n",
    "np.save('D:/JATHURSH/Jupyter_notebook_projects/Saved_stuff_from_drowsiness_detection_project/half_data_train_test_validation_split/X_train_preprocessed.npy'\n",
    "        ,X_train_preprocessed)\n",
    "\n",
    "np.save('D:/JATHURSH/Jupyter_notebook_projects/Saved_stuff_from_drowsiness_detection_project/half_data_train_test_validation_split/X_val_preprocessed.npy'\n",
    "        ,X_val_preprocessed)\n",
    "\n",
    "np.save('D:/JATHURSH/Jupyter_notebook_projects/Saved_stuff_from_drowsiness_detection_project/half_data_train_test_validation_split/X_test_preprocessed.npy'\n",
    "        ,X_test_preprocessed)\n",
    "\n",
    "np.save('D:/JATHURSH/Jupyter_notebook_projects/Saved_stuff_from_drowsiness_detection_project/half_data_train_test_validation_split/y_train.npy'\n",
    "        ,y_train)\n",
    "\n",
    "np.save('D:/JATHURSH/Jupyter_notebook_projects/Saved_stuff_from_drowsiness_detection_project/half_data_train_test_validation_split/y_val.npy'\n",
    "        ,y_val)\n",
    "\n",
    "np.save('D:/JATHURSH/Jupyter_notebook_projects/Saved_stuff_from_drowsiness_detection_project/half_data_train_test_validation_split/y_test.npy'\n",
    "        ,y_test)"
   ]
  },
  {
   "cell_type": "code",
   "execution_count": null,
   "id": "e750c82a",
   "metadata": {},
   "outputs": [],
   "source": []
  }
 ],
 "metadata": {
  "kernelspec": {
   "display_name": "Python 3 (ipykernel)",
   "language": "python",
   "name": "python3"
  },
  "language_info": {
   "codemirror_mode": {
    "name": "ipython",
    "version": 3
   },
   "file_extension": ".py",
   "mimetype": "text/x-python",
   "name": "python",
   "nbconvert_exporter": "python",
   "pygments_lexer": "ipython3",
   "version": "3.11.4"
  }
 },
 "nbformat": 4,
 "nbformat_minor": 5
}
