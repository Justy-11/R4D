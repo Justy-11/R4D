{
 "cells": [
  {
   "cell_type": "code",
   "execution_count": 1,
   "id": "1ee2f385",
   "metadata": {},
   "outputs": [],
   "source": [
    "import cv2\n",
    "import os\n",
    "import numpy as np\n",
    "import tensorflow as tf"
   ]
  },
  {
   "cell_type": "code",
   "execution_count": 4,
   "id": "9050d919",
   "metadata": {},
   "outputs": [],
   "source": [
    "# base directory where the test set is located.\n",
    "base_dir_test = 'D:/JATHURSH/SEMI-06/project/state-farm-distracted-driver-detection/imgs/test'\n",
    "\n",
    "img_size = 224\n",
    "\n",
    "# Create an empty list to store test image data.\n",
    "testdata = []\n",
    "\n",
    "# Loop through the image files within the test directory.\n",
    "for image_file in os.listdir(base_dir_test):\n",
    "    if image_file.endswith('.jpg'):\n",
    "        image_path = os.path.join(base_dir_test, image_file)\n",
    "\n",
    "        img_array = cv2.imread(image_path, cv2.IMREAD_GRAYSCALE)\n",
    "        back_to_rgb = cv2.cvtColor(img_array, cv2.COLOR_GRAY2RGB)\n",
    "        new_img_array = cv2.resize(back_to_rgb, (img_size, img_size))\n",
    "        testdata.append(new_img_array)"
   ]
  },
  {
   "cell_type": "code",
   "execution_count": 5,
   "id": "a7286f88",
   "metadata": {},
   "outputs": [],
   "source": [
    "import random\n",
    "\n",
    "# 79726 images in test data\n",
    "\n",
    "# Shuffle the testdata list randomly\n",
    "random.shuffle(testdata)\n",
    "\n",
    "# Select the first 30,000 images\n",
    "selected_testdata = testdata[:30000]"
   ]
  },
  {
   "cell_type": "code",
   "execution_count": 6,
   "id": "94e2fffb",
   "metadata": {},
   "outputs": [],
   "source": [
    "del testdata"
   ]
  },
  {
   "cell_type": "code",
   "execution_count": 7,
   "id": "30bacd76",
   "metadata": {},
   "outputs": [],
   "source": [
    "# Convert the selected_testdata to NumPy arrays and reshape testdata.\n",
    "X_test = np.array(selected_testdata).reshape(-1, img_size, img_size, 3)"
   ]
  },
  {
   "cell_type": "code",
   "execution_count": 8,
   "id": "2e09cde5",
   "metadata": {},
   "outputs": [],
   "source": [
    "X_test_preprocessed = tf.keras.applications.mobilenet_v2.preprocess_input(X_test)"
   ]
  },
  {
   "cell_type": "code",
   "execution_count": 9,
   "id": "43f3dbc1",
   "metadata": {},
   "outputs": [],
   "source": [
    "# Save preprocessed X_train, X_val, y_train, and y_val\n",
    "save_dir = 'D:/JATHURSH/Jupyter_notebook_projects/DistractionDetection/saved_data/train_val_test_preprocessed/'\n",
    "np.save(save_dir + 'X_test_preprocessed.npy', X_test_preprocessed)"
   ]
  },
  {
   "cell_type": "code",
   "execution_count": null,
   "id": "ad98b95b",
   "metadata": {},
   "outputs": [],
   "source": []
  }
 ],
 "metadata": {
  "kernelspec": {
   "display_name": "Python 3 (ipykernel)",
   "language": "python",
   "name": "python3"
  },
  "language_info": {
   "codemirror_mode": {
    "name": "ipython",
    "version": 3
   },
   "file_extension": ".py",
   "mimetype": "text/x-python",
   "name": "python",
   "nbconvert_exporter": "python",
   "pygments_lexer": "ipython3",
   "version": "3.11.4"
  }
 },
 "nbformat": 4,
 "nbformat_minor": 5
}
