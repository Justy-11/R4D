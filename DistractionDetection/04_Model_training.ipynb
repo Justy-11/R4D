{
 "cells": [
  {
   "cell_type": "code",
   "execution_count": 1,
   "id": "3ec2f32d",
   "metadata": {},
   "outputs": [],
   "source": [
    "import tensorflow as tf\n",
    "import cv2\n",
    "import os\n",
    "import matplotlib.pyplot as plt\n",
    "import numpy as np\n",
    "import pickle"
   ]
  },
  {
   "cell_type": "code",
   "execution_count": 2,
   "id": "d25c6dc7",
   "metadata": {},
   "outputs": [],
   "source": [
    "# load train, test, validation splits\n",
    "saved_dir = 'D:/JATHURSH/Jupyter_notebook_projects/DistractionDetection/saved_data/train_val_test_preprocessed/'\n",
    "\n",
    "saved_dir_2 = 'D:/JATHURSH/Jupyter_notebook_projects/DistractionDetection/saved_data/train_val_split/'\n",
    "\n",
    "X_train = np.load(saved_dir + 'X_train_preprocessed.npy')\n",
    "\n",
    "X_val = np.load(saved_dir + 'X_val_preprocessed.npy')\n",
    "\n",
    "y_train = np.load(saved_dir_2 + 'y_train.npy')\n",
    "\n",
    "y_val = np.load(saved_dir_2 + 'y_val.npy')"
   ]
  },
  {
   "cell_type": "code",
   "execution_count": 3,
   "id": "e5b6c48e",
   "metadata": {},
   "outputs": [],
   "source": [
    "# pretrained model - MobileNetV2\n",
    "# all should be numpy arrays or tensors before giving it to MobileNetV2\n",
    "\"\"\"\n",
    "    tf.keras.applications.mobilenet_v2.MobileNetV2(\n",
    "    input_shape=None,                 # Shape of input data (MobileNets support any input size greater than 32 x 32, with larger image sizes offering better performance.) \n",
    "    alpha=1.0,                        # Width multiplier for controlling network width (default is 1.0)\n",
    "    include_top=True,                 # Include fully connected top layers (default is True)\n",
    "    weights='imagenet',               # Weight initialization ('imagenet' for pre-trained weights, None for random initialization)\n",
    "    input_tensor=None,                # Optional input tensor (default is None)\n",
    "    pooling=None,                     # Pooling type for the last layer ('avg', 'max', or None; default is None)\n",
    "    classes=1000,                     # Number of output classes (default is 1000 for ImageNet)\n",
    "    classifier_activation='softmax',   # Activation function for output layer (default is 'softmax')\n",
    "    **kwargs                          # Additional keyword arguments\n",
    "    )\n",
    "\"\"\"\n",
    "# we dont have to set anything and keep its default values\n",
    "MobileNetV2_model = tf.keras.applications.mobilenet_v2.MobileNetV2()\n",
    "    \n",
    "# Make all layers in the model non-trainable - freeze\n",
    "for layer in MobileNetV2_model.layers:\n",
    "    layer.trainable = False\n",
    "\n",
    "# for reproducability - can be used between different runtimes\n",
    "tf.random.set_seed(0)\n",
    "\n",
    "# Get the base model's input and output\n",
    "base_input = MobileNetV2_model.layers[0].input\n",
    "base_output = MobileNetV2_model.layers[-3].output\n",
    "global_average_layer = tf.keras.layers.GlobalAveragePooling2D()(base_output)\n",
    "\n",
    "dense_layer = tf.keras.layers.Dense(160, activation='relu')(global_average_layer) \n",
    "dropout_layer = tf.keras.layers.Dropout(0.2)(dense_layer)\n",
    "final_output = tf.keras.layers.Dense(10)(dropout_layer)\n",
    "final_output = tf.keras.layers.Activation(\"softmax\")(final_output)"
   ]
  },
  {
   "cell_type": "code",
   "execution_count": 6,
   "id": "6b050889",
   "metadata": {},
   "outputs": [],
   "source": [
    "distraction_detection_model = tf.keras.Model(\n",
    "    inputs=base_input,\n",
    "    outputs=final_output\n",
    ")"
   ]
  },
  {
   "cell_type": "code",
   "execution_count": 8,
   "id": "42543b45",
   "metadata": {},
   "outputs": [
    {
     "data": {
      "text/plain": [
       "(array([[0., 1., 0., ..., 0., 0., 0.],\n",
       "        [1., 0., 0., ..., 0., 0., 0.],\n",
       "        [0., 0., 1., ..., 0., 0., 0.],\n",
       "        ...,\n",
       "        [1., 0., 0., ..., 0., 0., 0.],\n",
       "        [0., 0., 0., ..., 0., 0., 0.],\n",
       "        [0., 0., 0., ..., 0., 1., 0.]], dtype=float32),\n",
       " array([[1., 0., 0., ..., 0., 0., 0.],\n",
       "        [0., 1., 0., ..., 0., 0., 0.],\n",
       "        [0., 0., 0., ..., 0., 0., 0.],\n",
       "        ...,\n",
       "        [0., 0., 0., ..., 0., 0., 0.],\n",
       "        [1., 0., 0., ..., 0., 0., 0.],\n",
       "        [0., 0., 0., ..., 0., 1., 0.]], dtype=float32))"
      ]
     },
     "execution_count": 8,
     "metadata": {},
     "output_type": "execute_result"
    }
   ],
   "source": [
    "# one hot encoding the lebels\n",
    "from tensorflow.keras.utils import to_categorical\n",
    "\n",
    "y_train_encoded = to_categorical(y_train, num_classes=10)\n",
    "y_val_encoded = to_categorical(y_val, num_classes=10)\n",
    "y_train_encoded, y_val_encoded"
   ]
  },
  {
   "cell_type": "code",
   "execution_count": 9,
   "id": "fc2b28a4",
   "metadata": {},
   "outputs": [
    {
     "name": "stdout",
     "output_type": "stream",
     "text": [
      "Epoch 1/50\n",
      "631/631 [==============================] - 332s 521ms/step - loss: 1.4836 - accuracy: 0.5285 - val_loss: 0.7973 - val_accuracy: 0.8150 - lr: 1.0000e-04\n",
      "Epoch 2/50\n",
      "631/631 [==============================] - 359s 570ms/step - loss: 0.6830 - accuracy: 0.8247 - val_loss: 0.4607 - val_accuracy: 0.9108 - lr: 1.0000e-04\n",
      "Epoch 3/50\n",
      "631/631 [==============================] - 368s 584ms/step - loss: 0.4344 - accuracy: 0.8925 - val_loss: 0.3243 - val_accuracy: 0.9309 - lr: 1.0000e-04\n",
      "Epoch 4/50\n",
      "631/631 [==============================] - 367s 582ms/step - loss: 0.3169 - accuracy: 0.9234 - val_loss: 0.2609 - val_accuracy: 0.9447 - lr: 1.0000e-04\n",
      "Epoch 5/50\n",
      "631/631 [==============================] - 433s 686ms/step - loss: 0.2469 - accuracy: 0.9409 - val_loss: 0.2029 - val_accuracy: 0.9559 - lr: 1.0000e-04\n",
      "Epoch 6/50\n",
      "631/631 [==============================] - 447s 709ms/step - loss: 0.1988 - accuracy: 0.9540 - val_loss: 0.1753 - val_accuracy: 0.9639 - lr: 1.0000e-04\n",
      "Epoch 7/50\n",
      "631/631 [==============================] - 458s 726ms/step - loss: 0.1653 - accuracy: 0.9597 - val_loss: 0.1571 - val_accuracy: 0.9683 - lr: 1.0000e-04\n",
      "Epoch 8/50\n",
      "631/631 [==============================] - 430s 682ms/step - loss: 0.1378 - accuracy: 0.9701 - val_loss: 0.1387 - val_accuracy: 0.9706 - lr: 1.0000e-04\n",
      "Epoch 9/50\n",
      "631/631 [==============================] - 449s 711ms/step - loss: 0.1189 - accuracy: 0.9735 - val_loss: 0.1189 - val_accuracy: 0.9768 - lr: 1.0000e-04\n",
      "Epoch 10/50\n",
      "631/631 [==============================] - 397s 629ms/step - loss: 0.1026 - accuracy: 0.9784 - val_loss: 0.1121 - val_accuracy: 0.9782 - lr: 1.0000e-04\n",
      "Epoch 11/50\n",
      "631/631 [==============================] - 397s 629ms/step - loss: 0.0910 - accuracy: 0.9813 - val_loss: 0.1013 - val_accuracy: 0.9795 - lr: 1.0000e-04\n",
      "Epoch 12/50\n",
      "631/631 [==============================] - 407s 645ms/step - loss: 0.0797 - accuracy: 0.9830 - val_loss: 0.0995 - val_accuracy: 0.9777 - lr: 1.0000e-04\n",
      "Epoch 13/50\n",
      "631/631 [==============================] - 436s 691ms/step - loss: 0.0687 - accuracy: 0.9860 - val_loss: 0.0880 - val_accuracy: 0.9813 - lr: 1.0000e-04\n",
      "Epoch 14/50\n",
      "631/631 [==============================] - 450s 713ms/step - loss: 0.0602 - accuracy: 0.9876 - val_loss: 0.0838 - val_accuracy: 0.9840 - lr: 1.0000e-04\n",
      "Epoch 15/50\n",
      "631/631 [==============================] - 553s 876ms/step - loss: 0.0539 - accuracy: 0.9898 - val_loss: 0.0767 - val_accuracy: 0.9808 - lr: 1.0000e-04\n",
      "Epoch 16/50\n",
      "631/631 [==============================] - 640s 1s/step - loss: 0.0495 - accuracy: 0.9893 - val_loss: 0.0707 - val_accuracy: 0.9840 - lr: 1.0000e-04\n",
      "Epoch 17/50\n",
      "631/631 [==============================] - 651s 1s/step - loss: 0.0426 - accuracy: 0.9922 - val_loss: 0.0752 - val_accuracy: 0.9840 - lr: 1.0000e-04\n",
      "Epoch 18/50\n",
      "631/631 [==============================] - 669s 1s/step - loss: 0.0385 - accuracy: 0.9939 - val_loss: 0.0659 - val_accuracy: 0.9844 - lr: 1.0000e-04\n",
      "Epoch 19/50\n",
      "631/631 [==============================] - 643s 1s/step - loss: 0.0353 - accuracy: 0.9932 - val_loss: 0.0608 - val_accuracy: 0.9866 - lr: 1.0000e-04\n",
      "Epoch 20/50\n",
      "631/631 [==============================] - 652s 1s/step - loss: 0.0318 - accuracy: 0.9948 - val_loss: 0.0577 - val_accuracy: 0.9866 - lr: 1.0000e-04\n",
      "Epoch 21/50\n",
      "631/631 [==============================] - 28401s 45s/step - loss: 0.0269 - accuracy: 0.9956 - val_loss: 0.0569 - val_accuracy: 0.9857 - lr: 1.0000e-04\n",
      "Epoch 22/50\n",
      "631/631 [==============================] - 281s 444ms/step - loss: 0.0240 - accuracy: 0.9963 - val_loss: 0.0548 - val_accuracy: 0.9853 - lr: 1.0000e-04\n",
      "Epoch 23/50\n",
      "631/631 [==============================] - 311s 494ms/step - loss: 0.0228 - accuracy: 0.9964 - val_loss: 0.0568 - val_accuracy: 0.9866 - lr: 1.0000e-04\n",
      "Epoch 24/50\n",
      "631/631 [==============================] - 362s 574ms/step - loss: 0.0204 - accuracy: 0.9965 - val_loss: 0.0584 - val_accuracy: 0.9853 - lr: 1.0000e-04\n",
      "Epoch 25/50\n",
      "631/631 [==============================] - 353s 560ms/step - loss: 0.0201 - accuracy: 0.9970 - val_loss: 0.0477 - val_accuracy: 0.9889 - lr: 1.0000e-04\n",
      "Epoch 26/50\n",
      "631/631 [==============================] - 354s 561ms/step - loss: 0.0163 - accuracy: 0.9977 - val_loss: 0.0475 - val_accuracy: 0.9884 - lr: 1.0000e-04\n",
      "Epoch 27/50\n",
      "631/631 [==============================] - 361s 573ms/step - loss: 0.0150 - accuracy: 0.9979 - val_loss: 0.0516 - val_accuracy: 0.9880 - lr: 1.0000e-04\n",
      "Epoch 28/50\n",
      "631/631 [==============================] - 360s 571ms/step - loss: 0.0126 - accuracy: 0.9990 - val_loss: 0.0503 - val_accuracy: 0.9866 - lr: 1.0000e-04\n",
      "Epoch 29/50\n",
      "631/631 [==============================] - 357s 565ms/step - loss: 0.0136 - accuracy: 0.9981 - val_loss: 0.0476 - val_accuracy: 0.9871 - lr: 1.0000e-04\n",
      "Epoch 30/50\n",
      "631/631 [==============================] - 362s 574ms/step - loss: 0.0118 - accuracy: 0.9985 - val_loss: 0.0468 - val_accuracy: 0.9871 - lr: 1.0000e-04\n",
      "Epoch 31/50\n",
      "631/631 [==============================] - 361s 572ms/step - loss: 0.0108 - accuracy: 0.9988 - val_loss: 0.0432 - val_accuracy: 0.9897 - lr: 1.0000e-04\n",
      "Epoch 32/50\n",
      "631/631 [==============================] - 340s 539ms/step - loss: 0.0105 - accuracy: 0.9989 - val_loss: 0.0474 - val_accuracy: 0.9897 - lr: 1.0000e-04\n",
      "Epoch 33/50\n",
      "631/631 [==============================] - 342s 542ms/step - loss: 0.0087 - accuracy: 0.9993 - val_loss: 0.0461 - val_accuracy: 0.9893 - lr: 1.0000e-04\n",
      "Epoch 34/50\n",
      "631/631 [==============================] - 341s 540ms/step - loss: 0.0091 - accuracy: 0.9988 - val_loss: 0.0451 - val_accuracy: 0.9893 - lr: 1.0000e-04\n",
      "Epoch 35/50\n",
      "631/631 [==============================] - 346s 548ms/step - loss: 0.0095 - accuracy: 0.9986 - val_loss: 0.0450 - val_accuracy: 0.9906 - lr: 1.0000e-04\n",
      "Epoch 36/50\n",
      "631/631 [==============================] - ETA: 0s - loss: 0.0077 - accuracy: 0.9991\n",
      "Epoch 36: ReduceLROnPlateau reducing learning rate to 4.999999873689376e-05.\n",
      "631/631 [==============================] - 340s 539ms/step - loss: 0.0077 - accuracy: 0.9991 - val_loss: 0.0435 - val_accuracy: 0.9884 - lr: 1.0000e-04\n"
     ]
    }
   ],
   "source": [
    "# Compile and train the model using X_train - preprocessed as input\n",
    "initial_learning_rate = 0.0001\n",
    "\n",
    "# Use the ReduceLROnPlateau learning rate scheduler\n",
    "lr_scheduler = tf.keras.callbacks.ReduceLROnPlateau(\n",
    "        monitor='val_loss',\n",
    "        factor=0.5,\n",
    "        patience=5,\n",
    "        min_lr=1e-6,\n",
    "        verbose=1\n",
    ")\n",
    "\n",
    "distraction_detection_model.compile(optimizer=tf.keras.optimizers.Adam(learning_rate=initial_learning_rate), \n",
    "                                   loss='categorical_crossentropy', \n",
    "                                   metrics=['accuracy'])\n",
    "\n",
    "history_of_model = distraction_detection_model.fit(\n",
    "                               X_train, \n",
    "                               y_train_encoded, \n",
    "                               epochs=50, \n",
    "                               batch_size=32, \n",
    "                               validation_data=(X_val, y_val_encoded),\n",
    "                               callbacks=[tf.keras.callbacks.EarlyStopping(patience=5), lr_scheduler])"
   ]
  },
  {
   "cell_type": "code",
   "execution_count": 10,
   "id": "7fd21026",
   "metadata": {},
   "outputs": [],
   "source": [
    "training_loss = history_of_model.history['loss']\n",
    "validation_loss = history_of_model.history['val_loss']\n",
    "\n",
    "training_accuracy = history_of_model.history['accuracy']\n",
    "validation_accuracy = history_of_model.history['val_accuracy']\n",
    "\n",
    "# Calculate the number of training epochs:\n",
    "# - `len(training_loss)` calculates the length of the training_loss list, which typically\n",
    "#   contains the loss value at the end of each training epoch.\n",
    "# - This length tells us how many epochs the machine learning model was trained for.\n",
    "\n",
    "# Create a range of values representing epochs:\n",
    "# - `range(1, len(training_loss) + 1)` generates a Python range object starting from 1 and\n",
    "#   ending at the length of the training_loss list plus one.\n",
    "# - The +1 is added to ensure that the range includes values up to the number of epochs.\n",
    "# - This range is often used as the x-axis when plotting training metrics against the\n",
    "#   number of training iterations (epochs).\n",
    "epochs = range(1, len(training_loss) + 1)"
   ]
  },
  {
   "cell_type": "code",
   "execution_count": 11,
   "id": "6629e466",
   "metadata": {},
   "outputs": [
    {
     "data": {
      "image/png": "[encoded data removed]",
      "text/plain": [
       "<Figure size 1000x500 with 2 Axes>"
      ]
     },
     "metadata": {},
     "output_type": "display_data"
    }
   ],
   "source": [
    "# Plot training and validation loss\n",
    "plt.figure(figsize=(10, 5))\n",
    "plt.subplot(1, 2, 1)\n",
    "plt.plot(epochs, training_loss, 'b', label='Training Loss')\n",
    "plt.plot(epochs, validation_loss, 'r', label='Validation Loss')\n",
    "plt.title('Training and Validation Loss')\n",
    "plt.xlabel('Epochs')\n",
    "plt.ylabel('Loss')\n",
    "plt.legend()\n",
    "\n",
    "# Plot training and validation accuracy\n",
    "plt.subplot(1, 2, 2)\n",
    "plt.plot(epochs, training_accuracy, 'b', label='Training Accuracy')\n",
    "plt.plot(epochs, validation_accuracy, 'r', label='Validation Accuracy')\n",
    "plt.title('Training and Validation Accuracy')\n",
    "plt.xlabel('Epochs')\n",
    "plt.ylabel('Accuracy')\n",
    "plt.legend()\n",
    "\n",
    "plt.tight_layout()\n",
    "plt.show()"
   ]
  },
  {
   "cell_type": "code",
   "execution_count": 14,
   "id": "b37a991a",
   "metadata": {},
   "outputs": [],
   "source": [
    "# free up memory\n",
    "del X_train\n",
    "del X_val\n",
    "del y_train\n",
    "del y_val"
   ]
  },
  {
   "cell_type": "code",
   "execution_count": 12,
   "id": "34e4769b",
   "metadata": {},
   "outputs": [
    {
     "name": "stderr",
     "output_type": "stream",
     "text": [
      "C:\\Users\\DELL\\anaconda3\\Lib\\site-packages\\keras\\src\\engine\\training.py:3000: UserWarning: You are saving your model as an HDF5 file via `model.save()`. This file format is considered legacy. We recommend using instead the native Keras format, e.g. `model.save('my_model.keras')`.\n",
      "  saving_api.save_model(\n"
     ]
    }
   ],
   "source": [
    "# Save the model architecture and weights\n",
    "save_dir = 'D:/JATHURSH/Jupyter_notebook_projects/DistractionDetection/saved_data/models/'\n",
    "\n",
    "distraction_detection_model.save(save_dir + 'dis_det_model.h5')"
   ]
  },
  {
   "cell_type": "code",
   "execution_count": 13,
   "id": "361d19e2",
   "metadata": {},
   "outputs": [],
   "source": [
    "# Save the history object to a file\n",
    "with open(save_dir + 'dis_det_model_history.pkl', 'wb') as file:\n",
    "    pickle.dump(history_of_model.history, file)"
   ]
  },
  {
   "cell_type": "code",
   "execution_count": null,
   "id": "4bab1574",
   "metadata": {},
   "outputs": [],
   "source": []
  }
 ],
 "metadata": {
  "kernelspec": {
   "display_name": "Python 3 (ipykernel)",
   "language": "python",
   "name": "python3"
  },
  "language_info": {
   "codemirror_mode": {
    "name": "ipython",
    "version": 3
   },
   "file_extension": ".py",
   "mimetype": "text/x-python",
   "name": "python",
   "nbconvert_exporter": "python",
   "pygments_lexer": "ipython3",
   "version": "3.11.4"
  }
 },
 "nbformat": 4,
 "nbformat_minor": 5
}
