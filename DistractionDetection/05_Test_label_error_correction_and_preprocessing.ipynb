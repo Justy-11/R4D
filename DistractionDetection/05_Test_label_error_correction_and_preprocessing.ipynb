{
 "cells": [
  {
   "cell_type": "code",
   "execution_count": 14,
   "id": "b68a4f42",
   "metadata": {},
   "outputs": [],
   "source": [
    "import tensorflow as tf\n",
    "import cv2\n",
    "import matplotlib.pyplot as plt\n",
    "import numpy as np\n",
    "import pickle"
   ]
  },
  {
   "cell_type": "code",
   "execution_count": 15,
   "id": "11e9e169",
   "metadata": {},
   "outputs": [],
   "source": [
    "# load test split\n",
    "saved_test_dir = 'D:/JATHURSH/Jupyter_notebook_projects/DistractionDetection/saved_data/test_split/'\n",
    "\n",
    "X_test = np.load(saved_test_dir + 'X_test.npy')\n",
    "y_test = np.load(saved_test_dir + 'y_test.npy')"
   ]
  },
  {
   "cell_type": "code",
   "execution_count": 17,
   "id": "0d65abf6",
   "metadata": {},
   "outputs": [
    {
     "data": {
      "text/plain": [
       "((2000, 224, 224, 3), (2000,))"
      ]
     },
     "execution_count": 17,
     "metadata": {},
     "output_type": "execute_result"
    }
   ],
   "source": [
    "X_test.shape, y_test.shape"
   ]
  },
  {
   "cell_type": "code",
   "execution_count": 18,
   "id": "786d208f",
   "metadata": {},
   "outputs": [],
   "source": [
    "import os\n",
    "\n",
    "# Directory to save resized images with labels\n",
    "save_dir = 'D:/JATHURSH/Jupyter_notebook_projects/DistractionDetection/test_image_analysis/'\n",
    "\n",
    "# Mapping of class indices to class labels\n",
    "class_labels = {\n",
    "    0: 'normal_driving',\n",
    "    1: 'texting_right',\n",
    "    2: 'talking_on_the_phone_right',\n",
    "    3: 'texting_left',\n",
    "    4: 'talking_on_the_phone_left',\n",
    "    5: 'operating_the_radio',\n",
    "    6: 'drinking',\n",
    "    7: 'reaching_behind',\n",
    "    8: 'hair_and_makeup',\n",
    "    9: 'talking_to_passenger'\n",
    "}\n",
    "\n",
    "# Create the directory if it doesn't exist\n",
    "os.makedirs(save_dir, exist_ok=True)\n",
    "\n",
    "# Loop through each image and its corresponding label\n",
    "for i, (image, label) in enumerate(zip(X_test, y_test)):\n",
    "    # Get the class label from the mapping\n",
    "    class_label = class_labels[label]\n",
    "\n",
    "    # Resize the image to 400 by 600 pixels\n",
    "    resized_image = cv2.resize(image, (600, 400))\n",
    "\n",
    "    # Convert the resized image to uint8 format\n",
    "    resized_image = (resized_image * 255).astype(np.uint8)\n",
    "\n",
    "    # Save the resized image with the filename as the class label\n",
    "    filename = f'{i}_{class_label}.jpg'\n",
    "    file_path = os.path.join(save_dir, filename)\n",
    "    cv2.imwrite(file_path, resized_image)"
   ]
  },
  {
   "cell_type": "code",
   "execution_count": 19,
   "id": "8544a690",
   "metadata": {},
   "outputs": [],
   "source": [
    "# load saved test data - contain label errors\n",
    "saved_dir_test = 'D:/JATHURSH/Jupyter_notebook_projects/DistractionDetection/saved_data/test_split/'\n",
    "X = np.load(saved_dir_test + 'X_test.npy')\n",
    "y = np.load(saved_dir_test + 'y_test.npy')"
   ]
  },
  {
   "cell_type": "code",
   "execution_count": 20,
   "id": "4064fe80",
   "metadata": {},
   "outputs": [],
   "source": [
    "X_test = X[:1000]\n",
    "y_test = y[:1000]"
   ]
  },
  {
   "cell_type": "code",
   "execution_count": 21,
   "id": "b8bc7ca8",
   "metadata": {},
   "outputs": [
    {
     "data": {
      "text/plain": [
       "((1000, 224, 224, 3), (1000,))"
      ]
     },
     "execution_count": 21,
     "metadata": {},
     "output_type": "execute_result"
    }
   ],
   "source": [
    "X_test.shape, y_test.shape"
   ]
  },
  {
   "cell_type": "code",
   "execution_count": 22,
   "id": "359d4800",
   "metadata": {},
   "outputs": [],
   "source": [
    "# label errors in test data found for first 1000 and put in a label_errors.txt file\n",
    "saved_dir_label_correction = 'D:/JATHURSH/Jupyter_notebook_projects/DistractionDetection/'\n",
    "\n",
    "# Read the label errors from the text file\n",
    "with open(saved_dir_label_correction + 'label_errors.txt', 'r') as file:\n",
    "    label_errors = [line.strip().split('-') for line in file]\n",
    "\n",
    "# Convert indices and labels to integers\n",
    "label_errors = [(int(index), int(correct_label)) for index, correct_label in label_errors]\n",
    "\n",
    "# Correct the labels in y_test\n",
    "for index, correct_label in label_errors:\n",
    "    y_test[index] = correct_label"
   ]
  },
  {
   "cell_type": "code",
   "execution_count": 26,
   "id": "235c5c8e",
   "metadata": {},
   "outputs": [
    {
     "data": {
      "text/plain": [
       "(6, 8, 2, 9)"
      ]
     },
     "execution_count": 26,
     "metadata": {},
     "output_type": "execute_result"
    }
   ],
   "source": [
    "y_test[1], y_test[2], y_test[993],  y_test[994]"
   ]
  },
  {
   "cell_type": "code",
   "execution_count": 27,
   "id": "a34d5235",
   "metadata": {},
   "outputs": [],
   "source": [
    "# normalize\n",
    "X_test_preprocessed = tf.keras.applications.mobilenet_v2.preprocess_input(X_test)"
   ]
  },
  {
   "cell_type": "code",
   "execution_count": 28,
   "id": "118d1a04",
   "metadata": {},
   "outputs": [],
   "source": [
    "# Save preprocessed X_test and y_test\n",
    "# lec - label error corrected\n",
    "save_dir = 'D:/JATHURSH/Jupyter_notebook_projects/DistractionDetection/saved_data/train_val_test_preprocessed/'\n",
    "np.save(save_dir + 'X_test_preprocessed_lec.npy', X_test_preprocessed)\n",
    "\n",
    "save_dir_test = 'D:/JATHURSH/Jupyter_notebook_projects/DistractionDetection/saved_data/test_split/'\n",
    "np.save(save_dir_test + 'X_test_lec.npy', X_test)\n",
    "np.save(save_dir_test + 'y_test_lec.npy', y_test)"
   ]
  },
  {
   "cell_type": "code",
   "execution_count": null,
   "id": "3cbb9100",
   "metadata": {},
   "outputs": [],
   "source": []
  }
 ],
 "metadata": {
  "kernelspec": {
   "display_name": "Python 3 (ipykernel)",
   "language": "python",
   "name": "python3"
  },
  "language_info": {
   "codemirror_mode": {
    "name": "ipython",
    "version": 3
   },
   "file_extension": ".py",
   "mimetype": "text/x-python",
   "name": "python",
   "nbconvert_exporter": "python",
   "pygments_lexer": "ipython3",
   "version": "3.11.4"
  }
 },
 "nbformat": 4,
 "nbformat_minor": 5
}
